{
 "cells": [
  {
   "cell_type": "markdown",
   "metadata": {},
   "source": [
    "# Modeling\n"
   ]
  },
  {
   "cell_type": "code",
   "execution_count": 1,
   "metadata": {},
   "outputs": [],
   "source": [
    "%matplotlib inline\n",
    "\n",
    "import pandas as pd\n",
    "import numpy as np\n",
    "import seaborn as sns\n",
    "import matplotlib.pyplot as plt\n",
    "import statsmodels.formula.api as sm\n",
    "from sklearn.preprocessing import scale\n",
    "from sklearn import metrics\n",
    "from sklearn import model_selection\n",
    "from sklearn.ensemble import RandomForestRegressor\n",
    "from sklearn.linear_model import LinearRegression"
   ]
  },
  {
   "cell_type": "code",
   "execution_count": 2,
   "metadata": {},
   "outputs": [],
   "source": [
    "#Load data and transform the price variable to log_price\n",
    "db_all = pd.read_csv('data/analysis_ready.csv.gz')\n",
    "db_all['l_price'] = np.log(db_all['price_cleansed'])"
   ]
  },
  {
   "cell_type": "code",
   "execution_count": 3,
   "metadata": {},
   "outputs": [
    {
     "name": "stdout",
     "output_type": "stream",
     "text": [
      "<class 'pandas.core.frame.DataFrame'>\n",
      "Int64Index: 53509 entries, 0 to 53903\n",
      "Data columns (total 5 columns):\n",
      "l_price      53509 non-null float64\n",
      "bedrooms     53509 non-null float64\n",
      "bathrooms    53509 non-null float64\n",
      "beds         53509 non-null float64\n",
      "room_type    53509 non-null object\n",
      "dtypes: float64(4), object(1)\n",
      "memory usage: 2.4+ MB\n"
     ]
    }
   ],
   "source": [
    "#New dataframe with selected variables only and missing values removed. \n",
    "xs = ['l_price', 'bedrooms', 'bathrooms', 'beds', 'room_type']\n",
    "db = db_all[xs].dropna()\n",
    "db.info()"
   ]
  },
  {
   "cell_type": "markdown",
   "metadata": {},
   "source": [
    "## Baseline model\n",
    "\n",
    "$$\n",
    "\\log(P) = \\alpha + X \\beta + \\epsilon\n",
    "$$\n",
    "\n",
    "$X$:\n",
    "\n",
    "- Bathrooms\n",
    "- Bedrooms\n",
    "- Beds\n",
    "- Room type"
   ]
  },
  {
   "cell_type": "markdown",
   "metadata": {},
   "source": [
    "The baseline model is specified as a Loglinear model, which means that the dependent variable (Price) has been logged while the explanatory variables have been left as linear covariates. The Y-variable is often logged in this way to account Heteroscedasticity - i.e. 'unequal spread' of the X-variables at higher levels of the Y variable. In this context, heteroscedasticity means that at higher prices for AirBnB properties, there is much higher variation in the number of bedrooms, bathrooms, beds and room types available for visitors compared to lower-priced accomodation. This unequal spread can be addressed to an extent by taking the log of the dependent variable.\n",
    "\n",
    "The interpretation of the coefficients then changes somewhat: we say that a unit change in the number of bedrooms, bathrooms and beds leads to a percentage change (rather than a £ change) in the price of the property. "
   ]
  },
  {
   "cell_type": "code",
   "execution_count": 4,
   "metadata": {},
   "outputs": [
    {
     "data": {
      "text/html": [
       "<table class=\"simpletable\">\n",
       "<caption>OLS Regression Results</caption>\n",
       "<tr>\n",
       "  <th>Dep. Variable:</th>         <td>l_price</td>     <th>  R-squared:         </th> <td>   0.331</td> \n",
       "</tr>\n",
       "<tr>\n",
       "  <th>Model:</th>                   <td>OLS</td>       <th>  Adj. R-squared:    </th> <td>   0.331</td> \n",
       "</tr>\n",
       "<tr>\n",
       "  <th>Method:</th>             <td>Least Squares</td>  <th>  F-statistic:       </th> <td>   8823.</td> \n",
       "</tr>\n",
       "<tr>\n",
       "  <th>Date:</th>             <td>Fri, 23 Mar 2018</td> <th>  Prob (F-statistic):</th>  <td>  0.00</td>  \n",
       "</tr>\n",
       "<tr>\n",
       "  <th>Time:</th>                 <td>22:06:20</td>     <th>  Log-Likelihood:    </th> <td> -46041.</td> \n",
       "</tr>\n",
       "<tr>\n",
       "  <th>No. Observations:</th>      <td> 53509</td>      <th>  AIC:               </th> <td>9.209e+04</td>\n",
       "</tr>\n",
       "<tr>\n",
       "  <th>Df Residuals:</th>          <td> 53505</td>      <th>  BIC:               </th> <td>9.213e+04</td>\n",
       "</tr>\n",
       "<tr>\n",
       "  <th>Df Model:</th>              <td>     3</td>      <th>                     </th>     <td> </td>    \n",
       "</tr>\n",
       "<tr>\n",
       "  <th>Covariance Type:</th>      <td>nonrobust</td>    <th>                     </th>     <td> </td>    \n",
       "</tr>\n",
       "</table>\n",
       "<table class=\"simpletable\">\n",
       "<tr>\n",
       "      <td></td>         <th>coef</th>     <th>std err</th>      <th>t</th>      <th>P>|t|</th>  <th>[0.025</th>    <th>0.975]</th>  \n",
       "</tr>\n",
       "<tr>\n",
       "  <th>Intercept</th> <td>    3.6139</td> <td>    0.006</td> <td>  573.011</td> <td> 0.000</td> <td>    3.602</td> <td>    3.626</td>\n",
       "</tr>\n",
       "<tr>\n",
       "  <th>bedrooms</th>  <td>    0.2914</td> <td>    0.005</td> <td>   63.625</td> <td> 0.000</td> <td>    0.282</td> <td>    0.300</td>\n",
       "</tr>\n",
       "<tr>\n",
       "  <th>bathrooms</th> <td>    0.0255</td> <td>    0.005</td> <td>    4.699</td> <td> 0.000</td> <td>    0.015</td> <td>    0.036</td>\n",
       "</tr>\n",
       "<tr>\n",
       "  <th>beds</th>      <td>    0.1466</td> <td>    0.003</td> <td>   47.363</td> <td> 0.000</td> <td>    0.141</td> <td>    0.153</td>\n",
       "</tr>\n",
       "</table>\n",
       "<table class=\"simpletable\">\n",
       "<tr>\n",
       "  <th>Omnibus:</th>       <td>1229.914</td> <th>  Durbin-Watson:     </th> <td>   1.556</td>\n",
       "</tr>\n",
       "<tr>\n",
       "  <th>Prob(Omnibus):</th>  <td> 0.000</td>  <th>  Jarque-Bera (JB):  </th> <td>2834.743</td>\n",
       "</tr>\n",
       "<tr>\n",
       "  <th>Skew:</th>           <td> 0.040</td>  <th>  Prob(JB):          </th> <td>    0.00</td>\n",
       "</tr>\n",
       "<tr>\n",
       "  <th>Kurtosis:</th>       <td> 4.125</td>  <th>  Cond. No.          </th> <td>    9.24</td>\n",
       "</tr>\n",
       "</table>"
      ],
      "text/plain": [
       "<class 'statsmodels.iolib.summary.Summary'>\n",
       "\"\"\"\n",
       "                            OLS Regression Results                            \n",
       "==============================================================================\n",
       "Dep. Variable:                l_price   R-squared:                       0.331\n",
       "Model:                            OLS   Adj. R-squared:                  0.331\n",
       "Method:                 Least Squares   F-statistic:                     8823.\n",
       "Date:                Fri, 23 Mar 2018   Prob (F-statistic):               0.00\n",
       "Time:                        22:06:20   Log-Likelihood:                -46041.\n",
       "No. Observations:               53509   AIC:                         9.209e+04\n",
       "Df Residuals:                   53505   BIC:                         9.213e+04\n",
       "Df Model:                           3                                         \n",
       "Covariance Type:            nonrobust                                         \n",
       "==============================================================================\n",
       "                 coef    std err          t      P>|t|      [0.025      0.975]\n",
       "------------------------------------------------------------------------------\n",
       "Intercept      3.6139      0.006    573.011      0.000       3.602       3.626\n",
       "bedrooms       0.2914      0.005     63.625      0.000       0.282       0.300\n",
       "bathrooms      0.0255      0.005      4.699      0.000       0.015       0.036\n",
       "beds           0.1466      0.003     47.363      0.000       0.141       0.153\n",
       "==============================================================================\n",
       "Omnibus:                     1229.914   Durbin-Watson:                   1.556\n",
       "Prob(Omnibus):                  0.000   Jarque-Bera (JB):             2834.743\n",
       "Skew:                           0.040   Prob(JB):                         0.00\n",
       "Kurtosis:                       4.125   Cond. No.                         9.24\n",
       "==============================================================================\n",
       "\n",
       "Warnings:\n",
       "[1] Standard Errors assume that the covariance matrix of the errors is correctly specified.\n",
       "\"\"\""
      ]
     },
     "execution_count": 4,
     "metadata": {},
     "output_type": "execute_result"
    }
   ],
   "source": [
    "#Model 1\n",
    "m1 = sm.ols('l_price ~ bedrooms + bathrooms + beds', db).fit()\n",
    "m1.summary()"
   ]
  },
  {
   "cell_type": "markdown",
   "metadata": {},
   "source": [
    "To note:\n",
    "\n",
    "- Decent $R^2$ (although that's not holy truth)\n",
    "- Every variable significant and related as expected\n",
    "- Interpret coefficients\n",
    "\n",
    "The $R^2$ statistic is an indicator of the goodness-of-fit of the model; its range is between Zero and One. Values closer to One imply that a larger proportion of the variation in the data is explained by the model. It depends on sample size and the number of explanatory variables in the model. The bigger the sample size the better, but adding more and more variables, even if they are irrelevant to the dependent variable (e.g. telephone number), can lead to an artifical inflation of the $R^2$ figure so one has to be careful when making claims about goodness-of-fit based on the $R^2$ statistic taken by itself. Alternative measures are the AIC (Akaike Information Criteria) and BIC (Bayesian Information Criteria), both given in the tables above. However, for this exercise, the $R^2$ measure is sufficient.   "
   ]
  },
  {
   "cell_type": "code",
   "execution_count": 5,
   "metadata": {},
   "outputs": [
    {
     "data": {
      "text/html": [
       "<table class=\"simpletable\">\n",
       "<caption>OLS Regression Results</caption>\n",
       "<tr>\n",
       "  <th>Dep. Variable:</th>         <td>l_price</td>     <th>  R-squared:         </th> <td>   0.331</td> \n",
       "</tr>\n",
       "<tr>\n",
       "  <th>Model:</th>                   <td>OLS</td>       <th>  Adj. R-squared:    </th> <td>   0.331</td> \n",
       "</tr>\n",
       "<tr>\n",
       "  <th>Method:</th>             <td>Least Squares</td>  <th>  F-statistic:       </th> <td>   8823.</td> \n",
       "</tr>\n",
       "<tr>\n",
       "  <th>Date:</th>             <td>Fri, 23 Mar 2018</td> <th>  Prob (F-statistic):</th>  <td>  0.00</td>  \n",
       "</tr>\n",
       "<tr>\n",
       "  <th>Time:</th>                 <td>22:06:20</td>     <th>  Log-Likelihood:    </th> <td> -46041.</td> \n",
       "</tr>\n",
       "<tr>\n",
       "  <th>No. Observations:</th>      <td> 53509</td>      <th>  AIC:               </th> <td>9.209e+04</td>\n",
       "</tr>\n",
       "<tr>\n",
       "  <th>Df Residuals:</th>          <td> 53505</td>      <th>  BIC:               </th> <td>9.213e+04</td>\n",
       "</tr>\n",
       "<tr>\n",
       "  <th>Df Model:</th>              <td>     3</td>      <th>                     </th>     <td> </td>    \n",
       "</tr>\n",
       "<tr>\n",
       "  <th>Covariance Type:</th>      <td>nonrobust</td>    <th>                     </th>     <td> </td>    \n",
       "</tr>\n",
       "</table>\n",
       "<table class=\"simpletable\">\n",
       "<tr>\n",
       "      <td></td>         <th>coef</th>     <th>std err</th>      <th>t</th>      <th>P>|t|</th>  <th>[0.025</th>    <th>0.975]</th>  \n",
       "</tr>\n",
       "<tr>\n",
       "  <th>Intercept</th> <td>    4.2917</td> <td>    0.002</td> <td> 1735.312</td> <td> 0.000</td> <td>    4.287</td> <td>    4.297</td>\n",
       "</tr>\n",
       "<tr>\n",
       "  <th>bedrooms</th>  <td>    0.2458</td> <td>    0.004</td> <td>   63.625</td> <td> 0.000</td> <td>    0.238</td> <td>    0.253</td>\n",
       "</tr>\n",
       "<tr>\n",
       "  <th>bathrooms</th> <td>    0.0140</td> <td>    0.003</td> <td>    4.699</td> <td> 0.000</td> <td>    0.008</td> <td>    0.020</td>\n",
       "</tr>\n",
       "<tr>\n",
       "  <th>beds</th>      <td>    0.1762</td> <td>    0.004</td> <td>   47.363</td> <td> 0.000</td> <td>    0.169</td> <td>    0.184</td>\n",
       "</tr>\n",
       "</table>\n",
       "<table class=\"simpletable\">\n",
       "<tr>\n",
       "  <th>Omnibus:</th>       <td>1229.914</td> <th>  Durbin-Watson:     </th> <td>   1.556</td>\n",
       "</tr>\n",
       "<tr>\n",
       "  <th>Prob(Omnibus):</th>  <td> 0.000</td>  <th>  Jarque-Bera (JB):  </th> <td>2834.743</td>\n",
       "</tr>\n",
       "<tr>\n",
       "  <th>Skew:</th>           <td> 0.040</td>  <th>  Prob(JB):          </th> <td>    0.00</td>\n",
       "</tr>\n",
       "<tr>\n",
       "  <th>Kurtosis:</th>       <td> 4.125</td>  <th>  Cond. No.          </th> <td>    2.92</td>\n",
       "</tr>\n",
       "</table>"
      ],
      "text/plain": [
       "<class 'statsmodels.iolib.summary.Summary'>\n",
       "\"\"\"\n",
       "                            OLS Regression Results                            \n",
       "==============================================================================\n",
       "Dep. Variable:                l_price   R-squared:                       0.331\n",
       "Model:                            OLS   Adj. R-squared:                  0.331\n",
       "Method:                 Least Squares   F-statistic:                     8823.\n",
       "Date:                Fri, 23 Mar 2018   Prob (F-statistic):               0.00\n",
       "Time:                        22:06:20   Log-Likelihood:                -46041.\n",
       "No. Observations:               53509   AIC:                         9.209e+04\n",
       "Df Residuals:                   53505   BIC:                         9.213e+04\n",
       "Df Model:                           3                                         \n",
       "Covariance Type:            nonrobust                                         \n",
       "==============================================================================\n",
       "                 coef    std err          t      P>|t|      [0.025      0.975]\n",
       "------------------------------------------------------------------------------\n",
       "Intercept      4.2917      0.002   1735.312      0.000       4.287       4.297\n",
       "bedrooms       0.2458      0.004     63.625      0.000       0.238       0.253\n",
       "bathrooms      0.0140      0.003      4.699      0.000       0.008       0.020\n",
       "beds           0.1762      0.004     47.363      0.000       0.169       0.184\n",
       "==============================================================================\n",
       "Omnibus:                     1229.914   Durbin-Watson:                   1.556\n",
       "Prob(Omnibus):                  0.000   Jarque-Bera (JB):             2834.743\n",
       "Skew:                           0.040   Prob(JB):                         0.00\n",
       "Kurtosis:                       4.125   Cond. No.                         2.92\n",
       "==============================================================================\n",
       "\n",
       "Warnings:\n",
       "[1] Standard Errors assume that the covariance matrix of the errors is correctly specified.\n",
       "\"\"\""
      ]
     },
     "execution_count": 5,
     "metadata": {},
     "output_type": "execute_result"
    }
   ],
   "source": [
    "#Scaling and Centring the data\n",
    "cols = ['bedrooms', 'bathrooms', 'beds']\n",
    "scX = pd.DataFrame(scale(db[cols]),\n",
    "                   index=db.index,\n",
    "                   columns=cols)\n",
    "\n",
    "#Re-estimate as Model 2\n",
    "m2 = sm.ols('l_price ~ bedrooms + bathrooms + beds', \n",
    "            data=scX.join(db['l_price']))\\\n",
    "       .fit()\n",
    "m2.summary()"
   ]
  },
  {
   "cell_type": "markdown",
   "metadata": {},
   "source": [
    "To note:\n",
    "\n",
    "How does interpretation of the coefficients change?\n",
    "* Meaning of intecept when $X$ is demeanded\n",
    "* Units in which $\\beta$ are interpreted"
   ]
  },
  {
   "cell_type": "markdown",
   "metadata": {},
   "source": [
    "## Predictive checking\n",
    "\n",
    "Is the model picking up the overall \"shape of data\"?\n",
    "\n",
    "- Important to know how much we should trust our inferences\n",
    "- Crucial if we want to use the model to predict!"
   ]
  },
  {
   "cell_type": "code",
   "execution_count": 6,
   "metadata": {},
   "outputs": [
    {
     "data": {
      "text/plain": [
       "<matplotlib.axes._subplots.AxesSubplot at 0x7fdf08e22b00>"
      ]
     },
     "execution_count": 6,
     "metadata": {},
     "output_type": "execute_result"
    },
    {
     "data": {
      "image/png": "[encoded data removed]",
      "text/plain": [
       "<Figure size 432x288 with 1 Axes>"
      ]
     },
     "metadata": {},
     "output_type": "display_data"
    }
   ],
   "source": [
    "#Inspect shape of log-price distribution: does it look bell-shaped i.e. well-behaved?\n",
    "sns.kdeplot(db['l_price'], shade=True)"
   ]
  },
  {
   "cell_type": "code",
   "execution_count": 7,
   "metadata": {},
   "outputs": [
    {
     "data": {
      "text/plain": [
       "<matplotlib.axes._subplots.AxesSubplot at 0x7fdf08d86be0>"
      ]
     },
     "execution_count": 7,
     "metadata": {},
     "output_type": "execute_result"
    },
    {
     "data": {
      "image/png": "[encoded data removed]",
      "text/plain": [
       "<Figure size 432x288 with 1 Axes>"
      ]
     },
     "metadata": {},
     "output_type": "display_data"
    }
   ],
   "source": [
    "#Inspect shape of Model 1\n",
    "sns.kdeplot(m1.fittedvalues, shade=True)"
   ]
  },
  {
   "cell_type": "code",
   "execution_count": 8,
   "metadata": {},
   "outputs": [
    {
     "data": {
      "image/png": "[encoded data removed]",
      "text/plain": [
       "<Figure size 648x432 with 1 Axes>"
      ]
     },
     "metadata": {},
     "output_type": "display_data"
    }
   ],
   "source": [
    "#Overlay plots for comparison. \n",
    "f, ax = plt.subplots(1, figsize=(9, 6))\n",
    "sns.kdeplot(db['l_price'], shade=True, ax=ax, label='$y$')\n",
    "sns.kdeplot(m1.fittedvalues, shade=True, ax=ax, label='$\\hat{y}$')\n",
    "plt.show()"
   ]
  },
  {
   "cell_type": "markdown",
   "metadata": {},
   "source": [
    "To note:\n",
    "\n",
    "- Not a terrible start\n",
    "- How could we improve it?"
   ]
  },
  {
   "cell_type": "code",
   "execution_count": 9,
   "metadata": {},
   "outputs": [
    {
     "data": {
      "text/html": [
       "<table class=\"simpletable\">\n",
       "<caption>OLS Regression Results</caption>\n",
       "<tr>\n",
       "  <th>Dep. Variable:</th>         <td>l_price</td>     <th>  R-squared:         </th> <td>   0.604</td> \n",
       "</tr>\n",
       "<tr>\n",
       "  <th>Model:</th>                   <td>OLS</td>       <th>  Adj. R-squared:    </th> <td>   0.604</td> \n",
       "</tr>\n",
       "<tr>\n",
       "  <th>Method:</th>             <td>Least Squares</td>  <th>  F-statistic:       </th> <td>1.630e+04</td>\n",
       "</tr>\n",
       "<tr>\n",
       "  <th>Date:</th>             <td>Fri, 23 Mar 2018</td> <th>  Prob (F-statistic):</th>  <td>  0.00</td>  \n",
       "</tr>\n",
       "<tr>\n",
       "  <th>Time:</th>                 <td>22:06:21</td>     <th>  Log-Likelihood:    </th> <td> -32031.</td> \n",
       "</tr>\n",
       "<tr>\n",
       "  <th>No. Observations:</th>      <td> 53509</td>      <th>  AIC:               </th> <td>6.407e+04</td>\n",
       "</tr>\n",
       "<tr>\n",
       "  <th>Df Residuals:</th>          <td> 53503</td>      <th>  BIC:               </th> <td>6.413e+04</td>\n",
       "</tr>\n",
       "<tr>\n",
       "  <th>Df Model:</th>              <td>     5</td>      <th>                     </th>     <td> </td>    \n",
       "</tr>\n",
       "<tr>\n",
       "  <th>Covariance Type:</th>      <td>nonrobust</td>    <th>                     </th>     <td> </td>    \n",
       "</tr>\n",
       "</table>\n",
       "<table class=\"simpletable\">\n",
       "<tr>\n",
       "              <td></td>                 <th>coef</th>     <th>std err</th>      <th>t</th>      <th>P>|t|</th>  <th>[0.025</th>    <th>0.975]</th>  \n",
       "</tr>\n",
       "<tr>\n",
       "  <th>Intercept</th>                 <td>    4.2139</td> <td>    0.006</td> <td>  724.314</td> <td> 0.000</td> <td>    4.203</td> <td>    4.225</td>\n",
       "</tr>\n",
       "<tr>\n",
       "  <th>room_type[T.Private room]</th> <td>   -0.7901</td> <td>    0.004</td> <td> -184.073</td> <td> 0.000</td> <td>   -0.799</td> <td>   -0.782</td>\n",
       "</tr>\n",
       "<tr>\n",
       "  <th>room_type[T.Shared room]</th>  <td>   -1.3001</td> <td>    0.017</td> <td>  -76.812</td> <td> 0.000</td> <td>   -1.333</td> <td>   -1.267</td>\n",
       "</tr>\n",
       "<tr>\n",
       "  <th>bedrooms</th>                  <td>    0.1757</td> <td>    0.004</td> <td>   49.030</td> <td> 0.000</td> <td>    0.169</td> <td>    0.183</td>\n",
       "</tr>\n",
       "<tr>\n",
       "  <th>bathrooms</th>                 <td>    0.1211</td> <td>    0.004</td> <td>   28.774</td> <td> 0.000</td> <td>    0.113</td> <td>    0.129</td>\n",
       "</tr>\n",
       "<tr>\n",
       "  <th>beds</th>                      <td>    0.0491</td> <td>    0.002</td> <td>   19.925</td> <td> 0.000</td> <td>    0.044</td> <td>    0.054</td>\n",
       "</tr>\n",
       "</table>\n",
       "<table class=\"simpletable\">\n",
       "<tr>\n",
       "  <th>Omnibus:</th>       <td>7192.898</td> <th>  Durbin-Watson:     </th> <td>   1.671</td> \n",
       "</tr>\n",
       "<tr>\n",
       "  <th>Prob(Omnibus):</th>  <td> 0.000</td>  <th>  Jarque-Bera (JB):  </th> <td>28913.080</td>\n",
       "</tr>\n",
       "<tr>\n",
       "  <th>Skew:</th>           <td> 0.628</td>  <th>  Prob(JB):          </th> <td>    0.00</td> \n",
       "</tr>\n",
       "<tr>\n",
       "  <th>Kurtosis:</th>       <td> 6.375</td>  <th>  Cond. No.          </th> <td>    26.9</td> \n",
       "</tr>\n",
       "</table>"
      ],
      "text/plain": [
       "<class 'statsmodels.iolib.summary.Summary'>\n",
       "\"\"\"\n",
       "                            OLS Regression Results                            \n",
       "==============================================================================\n",
       "Dep. Variable:                l_price   R-squared:                       0.604\n",
       "Model:                            OLS   Adj. R-squared:                  0.604\n",
       "Method:                 Least Squares   F-statistic:                 1.630e+04\n",
       "Date:                Fri, 23 Mar 2018   Prob (F-statistic):               0.00\n",
       "Time:                        22:06:21   Log-Likelihood:                -32031.\n",
       "No. Observations:               53509   AIC:                         6.407e+04\n",
       "Df Residuals:                   53503   BIC:                         6.413e+04\n",
       "Df Model:                           5                                         \n",
       "Covariance Type:            nonrobust                                         \n",
       "=============================================================================================\n",
       "                                coef    std err          t      P>|t|      [0.025      0.975]\n",
       "---------------------------------------------------------------------------------------------\n",
       "Intercept                     4.2139      0.006    724.314      0.000       4.203       4.225\n",
       "room_type[T.Private room]    -0.7901      0.004   -184.073      0.000      -0.799      -0.782\n",
       "room_type[T.Shared room]     -1.3001      0.017    -76.812      0.000      -1.333      -1.267\n",
       "bedrooms                      0.1757      0.004     49.030      0.000       0.169       0.183\n",
       "bathrooms                     0.1211      0.004     28.774      0.000       0.113       0.129\n",
       "beds                          0.0491      0.002     19.925      0.000       0.044       0.054\n",
       "==============================================================================\n",
       "Omnibus:                     7192.898   Durbin-Watson:                   1.671\n",
       "Prob(Omnibus):                  0.000   Jarque-Bera (JB):            28913.080\n",
       "Skew:                           0.628   Prob(JB):                         0.00\n",
       "Kurtosis:                       6.375   Cond. No.                         26.9\n",
       "==============================================================================\n",
       "\n",
       "Warnings:\n",
       "[1] Standard Errors assume that the covariance matrix of the errors is correctly specified.\n",
       "\"\"\""
      ]
     },
     "execution_count": 9,
     "metadata": {},
     "output_type": "execute_result"
    }
   ],
   "source": [
    "#Model 3 estimated to examine effect of 'room_type' on model fit.  \n",
    "m3 = sm.ols('l_price ~ bedrooms + bathrooms + beds + room_type', db).fit()\n",
    "m3.summary()"
   ]
  },
  {
   "cell_type": "code",
   "execution_count": 10,
   "metadata": {},
   "outputs": [
    {
     "data": {
      "image/png": "[encoded data removed]",
      "text/plain": [
       "<Figure size 648x432 with 1 Axes>"
      ]
     },
     "metadata": {},
     "output_type": "display_data"
    }
   ],
   "source": [
    "f, ax = plt.subplots(1, figsize=(9, 6))\n",
    "sns.kdeplot(db['l_price'], shade=True, ax=ax, label='$y$')\n",
    "sns.kdeplot(m1.fittedvalues, shade=True, ax=ax, label='$\\hat{y}_1$')\n",
    "sns.kdeplot(m3.fittedvalues, shade=True, ax=ax, label='$\\hat{y}_2$')\n",
    "plt.show()"
   ]
  },
  {
   "cell_type": "markdown",
   "metadata": {},
   "source": [
    "To note:\n",
    "\n",
    "- This is better!\n",
    "- But these are only point predictions. Sometimes that's good enough.\n",
    "- Usually however, we want a model to capture the underlying process instead of the particular realisation observed (ie. dataset).\n",
    "- Then we need to think about the uncertainty embedded in the model we are estimating"
   ]
  },
  {
   "cell_type": "markdown",
   "metadata": {},
   "source": [
    "## Inferential Vs Predictive uncertainty\n",
    "\n",
    "[See more in Chapter 7.2 of [Gelman & Hill 2006](http://www.stat.columbia.edu/~gelman/arm/)]\n",
    "\n",
    "- Two types of uncertainty in our model\n",
    "    + Predictive ($\\epsilon$)\n",
    "    + Inferential ($\\beta$)\n",
    "- Both affect the final predictions we make\n",
    "\n",
    "![](../figs/d3s2_example.png)"
   ]
  },
  {
   "cell_type": "code",
   "execution_count": 11,
   "metadata": {},
   "outputs": [
    {
     "data": {
      "text/html": [
       "<div>\n",
       "<style scoped>\n",
       "    .dataframe tbody tr th:only-of-type {\n",
       "        vertical-align: middle;\n",
       "    }\n",
       "\n",
       "    .dataframe tbody tr th {\n",
       "        vertical-align: top;\n",
       "    }\n",
       "\n",
       "    .dataframe thead th {\n",
       "        text-align: right;\n",
       "    }\n",
       "</style>\n",
       "<table border=\"1\" class=\"dataframe\">\n",
       "  <thead>\n",
       "    <tr style=\"text-align: right;\">\n",
       "      <th></th>\n",
       "      <th>38951</th>\n",
       "    </tr>\n",
       "  </thead>\n",
       "  <tbody>\n",
       "    <tr>\n",
       "      <th>review_scores_rating</th>\n",
       "      <td>96</td>\n",
       "    </tr>\n",
       "    <tr>\n",
       "      <th>review_scores_accuracy</th>\n",
       "      <td>10</td>\n",
       "    </tr>\n",
       "    <tr>\n",
       "      <th>review_scores_cleanliness</th>\n",
       "      <td>10</td>\n",
       "    </tr>\n",
       "    <tr>\n",
       "      <th>review_scores_checkin</th>\n",
       "      <td>10</td>\n",
       "    </tr>\n",
       "    <tr>\n",
       "      <th>review_scores_communication</th>\n",
       "      <td>10</td>\n",
       "    </tr>\n",
       "    <tr>\n",
       "      <th>review_scores_location</th>\n",
       "      <td>10</td>\n",
       "    </tr>\n",
       "    <tr>\n",
       "      <th>review_scores_value</th>\n",
       "      <td>9</td>\n",
       "    </tr>\n",
       "    <tr>\n",
       "      <th>id</th>\n",
       "      <td>7849135</td>\n",
       "    </tr>\n",
       "    <tr>\n",
       "      <th>last_scraped</th>\n",
       "      <td>2017-03-04</td>\n",
       "    </tr>\n",
       "    <tr>\n",
       "      <th>last_review</th>\n",
       "      <td>2017-02-17</td>\n",
       "    </tr>\n",
       "    <tr>\n",
       "      <th>neighbourhood_cleansed</th>\n",
       "      <td>Tower Hamlets</td>\n",
       "    </tr>\n",
       "    <tr>\n",
       "      <th>longitude</th>\n",
       "      <td>-0.0461759</td>\n",
       "    </tr>\n",
       "    <tr>\n",
       "      <th>latitude</th>\n",
       "      <td>51.5093</td>\n",
       "    </tr>\n",
       "    <tr>\n",
       "      <th>room_type</th>\n",
       "      <td>Entire home/apt</td>\n",
       "    </tr>\n",
       "    <tr>\n",
       "      <th>property_type</th>\n",
       "      <td>Apartment</td>\n",
       "    </tr>\n",
       "    <tr>\n",
       "      <th>bathrooms</th>\n",
       "      <td>2</td>\n",
       "    </tr>\n",
       "    <tr>\n",
       "      <th>bedrooms</th>\n",
       "      <td>1</td>\n",
       "    </tr>\n",
       "    <tr>\n",
       "      <th>beds</th>\n",
       "      <td>3</td>\n",
       "    </tr>\n",
       "    <tr>\n",
       "      <th>price_cleansed</th>\n",
       "      <td>69</td>\n",
       "    </tr>\n",
       "    <tr>\n",
       "      <th>area</th>\n",
       "      <td>19.7779</td>\n",
       "    </tr>\n",
       "    <tr>\n",
       "      <th>l_price</th>\n",
       "      <td>4.23411</td>\n",
       "    </tr>\n",
       "  </tbody>\n",
       "</table>\n",
       "</div>"
      ],
      "text/plain": [
       "                                       38951\n",
       "review_scores_rating                      96\n",
       "review_scores_accuracy                    10\n",
       "review_scores_cleanliness                 10\n",
       "review_scores_checkin                     10\n",
       "review_scores_communication               10\n",
       "review_scores_location                    10\n",
       "review_scores_value                        9\n",
       "id                                   7849135\n",
       "last_scraped                      2017-03-04\n",
       "last_review                       2017-02-17\n",
       "neighbourhood_cleansed         Tower Hamlets\n",
       "longitude                         -0.0461759\n",
       "latitude                             51.5093\n",
       "room_type                    Entire home/apt\n",
       "property_type                      Apartment\n",
       "bathrooms                                  2\n",
       "bedrooms                                   1\n",
       "beds                                       3\n",
       "price_cleansed                            69\n",
       "area                                 19.7779\n",
       "l_price                              4.23411"
      ]
     },
     "execution_count": 11,
     "metadata": {},
     "output_type": "execute_result"
    }
   ],
   "source": [
    "#Locate a specific property and predict its price based on the parameters (betas) of our model. \n",
    "#Does this match the actual price? \n",
    "#If so, we might have found a good model, and made a good choice as to the explanatory variables we have selected.\n",
    "\n",
    "db_all.loc[db_all['id']==7849135, :].T"
   ]
  },
  {
   "cell_type": "code",
   "execution_count": 12,
   "metadata": {},
   "outputs": [],
   "source": [
    "hid = 38951"
   ]
  },
  {
   "cell_type": "code",
   "execution_count": 13,
   "metadata": {},
   "outputs": [
    {
     "data": {
      "text/plain": [
       "l_price              4.23411\n",
       "bedrooms                   1\n",
       "bathrooms                  2\n",
       "beds                       3\n",
       "room_type    Entire home/apt\n",
       "Name: 38951, dtype: object"
      ]
     },
     "execution_count": 13,
     "metadata": {},
     "output_type": "execute_result"
    }
   ],
   "source": [
    "db.loc[hid, :]"
   ]
  },
  {
   "cell_type": "markdown",
   "metadata": {},
   "source": [
    "$$\n",
    "\\hat{\\log(P_i)} = \\alpha + \\sum_k \\beta_k * X_k\n",
    "$$"
   ]
  },
  {
   "cell_type": "code",
   "execution_count": 14,
   "metadata": {},
   "outputs": [
    {
     "data": {
      "text/plain": [
       "4.396095126749933"
      ]
     },
     "execution_count": 14,
     "metadata": {},
     "output_type": "execute_result"
    }
   ],
   "source": [
    "m1.params['Intercept'] + db.loc[hid, cols].dot(m1.params[cols])"
   ]
  },
  {
   "cell_type": "markdown",
   "metadata": {},
   "source": [
    "To note:\n",
    "\n",
    "- What does `dot` do?"
   ]
  },
  {
   "cell_type": "code",
   "execution_count": 15,
   "metadata": {},
   "outputs": [
    {
     "data": {
      "text/plain": [
       "4.396095126749933"
      ]
     },
     "execution_count": 15,
     "metadata": {},
     "output_type": "execute_result"
    }
   ],
   "source": [
    "m1.fittedvalues[hid]"
   ]
  },
  {
   "cell_type": "code",
   "execution_count": 16,
   "metadata": {},
   "outputs": [],
   "source": [
    "# Point predictive simulation. Here we want to check how: \n",
    "#different values of our Beta parameters and error term might change our predicted price, and \n",
    "#what the distribution of the change is. \n",
    "#This then gives us a useful interval estimate of plausible minimum and maximum price bounds for our house of interest, defined by the Confidence Intervals. "
   ]
  },
  {
   "cell_type": "code",
   "execution_count": 17,
   "metadata": {},
   "outputs": [
    {
     "name": "stdout",
     "output_type": "stream",
     "text": [
      "CPU times: user 476 ms, sys: 0 ns, total: 476 ms\n",
      "Wall time: 474 ms\n"
     ]
    }
   ],
   "source": [
    "%%time\n",
    "# Parameters\n",
    "## Number of simulations\n",
    "r = 2000\n",
    "# Pull out characteristics for house of interest\n",
    "x_i = db.loc[hid, cols]\n",
    "# Specify model engine\n",
    "model = m1\n",
    "\n",
    "# Place-holder\n",
    "sims = np.zeros(r)\n",
    "# Loop over number of replications\n",
    "for i in range(r):\n",
    "    # Get a random draw of betas\n",
    "    rbs = np.random.normal(model.params, model.bse)\n",
    "    # Get a random draw of epsilon\n",
    "    re = np.random.normal(0, model.scale)\n",
    "    # Obtain point estimate\n",
    "    y_hr = rbs[0] + np.dot(x_i, rbs[1:]) + re\n",
    "    # Store estimate\n",
    "    sims[i] = y_hr"
   ]
  },
  {
   "cell_type": "code",
   "execution_count": 18,
   "metadata": {},
   "outputs": [
    {
     "data": {
      "image/png": "[encoded data removed]",
      "text/plain": [
       "<Figure size 864x432 with 1 Axes>"
      ]
     },
     "metadata": {},
     "output_type": "display_data"
    }
   ],
   "source": [
    "f, ax = plt.subplots(1, figsize=(12, 6))\n",
    "\n",
    "sns.kdeplot(sims, shade=True, ax=ax, label='Simulation')\n",
    "ax.axvline(db.loc[hid, 'l_price'], c='orange', label='Observed')\n",
    "ax.axvline(model.fittedvalues[hid], c='green', label='Predicted')\n",
    "\n",
    "lo, up = pd.Series(sims).sort_values().iloc[[int(np.round(0.025 * r)), int(np.round(0.975 * r))]]\n",
    "ax.axvline(lo, c='grey', linewidth=1)\n",
    "ax.axvline(up, c='grey', linewidth=1)\n",
    "\n",
    "plt.legend()\n",
    "plt.show()"
   ]
  },
  {
   "cell_type": "markdown",
   "metadata": {},
   "source": [
    "To note:\n",
    "\n",
    "- Intuition of the simulation\n",
    "- The `for` loop, deconstructed\n",
    "- The graph, bit by bit\n",
    "- If we did this for every observation, we'd expect 95% to be within the 95% bands\n",
    "\n",
    "**Exercise**\n",
    "\n",
    "Explore with the code above and try to generate similar plots for:\n",
    "\n",
    "- Different houses across locations and characteristics\n",
    "- Different model\n",
    "\n",
    "Now, we could do this for *all* the observations and get a sense of the overall distribution to be expected"
   ]
  },
  {
   "cell_type": "code",
   "execution_count": 19,
   "metadata": {},
   "outputs": [
    {
     "name": "stdout",
     "output_type": "stream",
     "text": [
      "CPU times: user 5.07 s, sys: 12.2 s, total: 17.2 s\n",
      "Wall time: 2.42 s\n"
     ]
    }
   ],
   "source": [
    "%%time\n",
    "# Parameters\n",
    "## Number of observations & simulations\n",
    "n = db.shape[0]\n",
    "r = 200\n",
    "# Specify model engine\n",
    "model = m1\n",
    "\n",
    "# Place-holder (N, r)\n",
    "sims = np.zeros((n, r))\n",
    "# Loop over number of replications\n",
    "for i in range(r):\n",
    "    # Get a random draw of betas\n",
    "    rbs = np.random.normal(model.params, model.bse)\n",
    "    # Get a random draw of epsilon\n",
    "    re = np.random.normal([0]*n, model.scale)\n",
    "    # Obtain point estimate\n",
    "    y_hr = rbs[0] + np.dot(db[cols], rbs[1:]) + re\n",
    "    # Store estimate\n",
    "    sims[:, i] = y_hr"
   ]
  },
  {
   "cell_type": "code",
   "execution_count": 20,
   "metadata": {},
   "outputs": [
    {
     "data": {
      "image/png": "[encoded data removed]",
      "text/plain": [
       "<Figure size 864x432 with 1 Axes>"
      ]
     },
     "metadata": {},
     "output_type": "display_data"
    }
   ],
   "source": [
    "f, ax = plt.subplots(1, figsize=(12, 6))\n",
    "\n",
    "for i in range(10):\n",
    "    sns.kdeplot(sims[:, i], ax=ax, linewidth=0.1, alpha=0.1, color='k')\n",
    "    \n",
    "plt.show()"
   ]
  },
  {
   "cell_type": "code",
   "execution_count": 21,
   "metadata": {},
   "outputs": [
    {
     "data": {
      "image/png": "[encoded data removed]",
      "text/plain": [
       "<Figure size 864x432 with 1 Axes>"
      ]
     },
     "metadata": {},
     "output_type": "display_data"
    }
   ],
   "source": [
    "f, ax = plt.subplots(1, figsize=(12, 6))\n",
    "\n",
    "sns.kdeplot(db['l_price'], shade=True, ax=ax, label='$y$')\n",
    "sns.kdeplot(m1.fittedvalues, shade=True, ax=ax, label='$\\hat{y}$')\n",
    "\n",
    "for i in range(r):\n",
    "    sns.kdeplot(sims[:, i], ax=ax, linewidth=0.1, alpha=0.1, color='k')\n",
    "    \n",
    "plt.show()"
   ]
  },
  {
   "cell_type": "markdown",
   "metadata": {},
   "source": [
    "To note:\n",
    "\n",
    "- Black line contains `r` thin lines that collectively capture the uncertainty behind the model"
   ]
  },
  {
   "cell_type": "markdown",
   "metadata": {},
   "source": [
    "### New data\n",
    "\n",
    "Imagine we are trying to figure out how much should we charge for a property we want to put on AirBnb.\n",
    "\n",
    "For example, let's assume our property is:"
   ]
  },
  {
   "cell_type": "code",
   "execution_count": 22,
   "metadata": {},
   "outputs": [],
   "source": [
    "new = pd.Series({'bedrooms': 4,\n",
    "                 'bathrooms': 1,\n",
    "                 'beds': 8})"
   ]
  },
  {
   "cell_type": "code",
   "execution_count": 23,
   "metadata": {},
   "outputs": [
    {
     "name": "stdout",
     "output_type": "stream",
     "text": [
      "CPU times: user 452 ms, sys: 4 ms, total: 456 ms\n",
      "Wall time: 455 ms\n"
     ]
    }
   ],
   "source": [
    "%%time\n",
    "# Parameters\n",
    "## Number of simulations\n",
    "r = 2000\n",
    "# Pull out characteristics for house of interest\n",
    "x_i = new\n",
    "# Specify model engine\n",
    "model = m1\n",
    "\n",
    "# Place-holder\n",
    "sims = np.zeros(r)\n",
    "# Loop over number of replications\n",
    "for i in range(r):\n",
    "    # Get a random draw of betas\n",
    "    rbs = np.random.normal(model.params, model.bse)\n",
    "    # Get a random draw of epsilon\n",
    "    re = np.random.normal(0, model.scale)\n",
    "    # Obtain point estimate\n",
    "    y_hr = rbs[0] + np.dot(x_i, rbs[1:]) + re\n",
    "    # Store estimate\n",
    "    sims[i] = y_hr"
   ]
  },
  {
   "cell_type": "code",
   "execution_count": 24,
   "metadata": {},
   "outputs": [
    {
     "data": {
      "image/png": "[encoded data removed]",
      "text/plain": [
       "<Figure size 864x432 with 1 Axes>"
      ]
     },
     "metadata": {},
     "output_type": "display_data"
    }
   ],
   "source": [
    "f, ax = plt.subplots(1, figsize=(12, 6))\n",
    "\n",
    "sns.kdeplot(sims, shade=True, ax=ax, label='Simulation')\n",
    "ax.axvline(model.params.iloc[0] + np.dot(new, model.params.iloc[1:]), \\\n",
    "           c='green', label='Predicted')\n",
    "\n",
    "lo, up = pd.Series(sims).sort_values().iloc[[int(np.round(0.025 * r)), int(np.round(0.975 * r))]]\n",
    "ax.axvline(lo, c='grey', linewidth=1)\n",
    "ax.axvline(up, c='grey', linewidth=1)\n",
    "\n",
    "plt.legend()\n",
    "plt.show()"
   ]
  },
  {
   "cell_type": "markdown",
   "metadata": {},
   "source": [
    "**[Pro]**"
   ]
  },
  {
   "cell_type": "code",
   "execution_count": 25,
   "metadata": {},
   "outputs": [],
   "source": [
    "def predictor(bedrooms, bathrooms, beds):\n",
    "    new = pd.Series({'bedrooms': bedrooms,\n",
    "                     'bathrooms': bathrooms,\n",
    "                     'beds': beds})\n",
    "    r = 1000\n",
    "    x_i = new\n",
    "    model = m1\n",
    "    #\n",
    "    sims = np.zeros(r)\n",
    "    for i in range(r):\n",
    "        rbs = np.random.normal(model.params, model.bse)\n",
    "        re = np.random.normal(0, model.scale)\n",
    "        y_hr = rbs[0] + np.dot(x_i, rbs[1:]) + re\n",
    "        sims[i] = y_hr\n",
    "    f, ax = plt.subplots(1, figsize=(12, 6))\n",
    "    ax.hist(sims, label='Simulation', alpha=0.25, bins=30)\n",
    "    ax.axvline(model.params.iloc[0] + np.dot(new, model.params.iloc[1:]), \\\n",
    "               c='green', label='Predicted')\n",
    "    lo, up = pd.Series(sims).sort_values().iloc[[int(np.round(0.025 * r)), int(np.round(0.975 * r))]]\n",
    "    ax.axvline(lo, c='grey', linewidth=1, label='95% CI')\n",
    "    ax.axvline(up, c='grey', linewidth=1)\n",
    "    ax.set_xlim((0, 10))\n",
    "    plt.legend()\n",
    "    return plt.show()"
   ]
  },
  {
   "cell_type": "code",
   "execution_count": 26,
   "metadata": {},
   "outputs": [
    {
     "data": {
      "image/png": "[encoded data removed]",
      "text/plain": [
       "<Figure size 864x432 with 1 Axes>"
      ]
     },
     "metadata": {},
     "output_type": "display_data"
    }
   ],
   "source": [
    "predictor(3, 1, 1)"
   ]
  },
  {
   "cell_type": "code",
   "execution_count": 27,
   "metadata": {},
   "outputs": [
    {
     "data": {
      "image/png": "[encoded data removed]",
      "text/plain": [
       "<Figure size 864x432 with 1 Axes>"
      ]
     },
     "metadata": {},
     "output_type": "display_data"
    }
   ],
   "source": [
    "# You might have to run this to make interactives work\n",
    "# jupyter labextension install @jupyter-widgets/jupyterlab-manager\n",
    "# From https://ipywidgets.readthedocs.io/en/latest/user_install.html#installing-the-jupyterlab-extension\n",
    "# Then restart Jupyter Lab\n",
    "from ipywidgets import interact, IntSlider\n",
    "\n",
    "interact(predictor, bedrooms=IntSlider(min=1, max=10), \\\n",
    "                    bathrooms=IntSlider(min=0, max=10), \\\n",
    "                    beds=IntSlider(min=1, max=20));"
   ]
  },
  {
   "cell_type": "markdown",
   "metadata": {},
   "source": [
    "## Model performance\n",
    "\n",
    "To note:\n",
    "\n",
    "- Switch from inference to prediction\n",
    "- Overall idea of summarising model performance\n",
    "- $R^2$\n",
    "- Error-based measures"
   ]
  },
  {
   "cell_type": "code",
   "execution_count": 28,
   "metadata": {},
   "outputs": [
    {
     "data": {
      "text/plain": [
       "Augmented    0.603708\n",
       "Baseline     0.330976\n",
       "dtype: float64"
      ]
     },
     "execution_count": 28,
     "metadata": {},
     "output_type": "execute_result"
    }
   ],
   "source": [
    "# R^2\n",
    "r2 = pd.Series({'Baseline': metrics.r2_score(db['l_price'],\n",
    "                                              m1.fittedvalues),\n",
    "                'Augmented': metrics.r2_score(db['l_price'],\n",
    "                                              m3.fittedvalues)})\n",
    "r2"
   ]
  },
  {
   "cell_type": "code",
   "execution_count": 29,
   "metadata": {},
   "outputs": [
    {
     "data": {
      "text/plain": [
       "Augmented    0.19385\n",
       "Baseline     0.32726\n",
       "dtype: float64"
      ]
     },
     "execution_count": 29,
     "metadata": {},
     "output_type": "execute_result"
    }
   ],
   "source": [
    "# MSE - Mean Squared Error\n",
    "mse = pd.Series({'Baseline': metrics.mean_squared_error(db['l_price'],\n",
    "                                                        m1.fittedvalues),\n",
    "                 'Augmented': metrics.mean_squared_error(db['l_price'],\n",
    "                                                         m3.fittedvalues)})\n",
    "mse"
   ]
  },
  {
   "cell_type": "code",
   "execution_count": 30,
   "metadata": {},
   "outputs": [
    {
     "data": {
      "text/plain": [
       "Augmented    0.335668\n",
       "Baseline     0.457220\n",
       "dtype: float64"
      ]
     },
     "execution_count": 30,
     "metadata": {},
     "output_type": "execute_result"
    }
   ],
   "source": [
    "# MAE - Mean Absolute Error\n",
    "mae = pd.Series({'Baseline': metrics.mean_absolute_error(db['l_price'],\n",
    "                                                         m1.fittedvalues),\n",
    "                 'Augmented': metrics.mean_absolute_error(db['l_price'],\n",
    "                                                          m3.fittedvalues)})\n",
    "mae"
   ]
  },
  {
   "cell_type": "code",
   "execution_count": 31,
   "metadata": {},
   "outputs": [
    {
     "data": {
      "text/html": [
       "<div>\n",
       "<style scoped>\n",
       "    .dataframe tbody tr th:only-of-type {\n",
       "        vertical-align: middle;\n",
       "    }\n",
       "\n",
       "    .dataframe tbody tr th {\n",
       "        vertical-align: top;\n",
       "    }\n",
       "\n",
       "    .dataframe thead th {\n",
       "        text-align: right;\n",
       "    }\n",
       "</style>\n",
       "<table border=\"1\" class=\"dataframe\">\n",
       "  <thead>\n",
       "    <tr style=\"text-align: right;\">\n",
       "      <th></th>\n",
       "      <th>MAE</th>\n",
       "      <th>MSE</th>\n",
       "      <th>R^2</th>\n",
       "    </tr>\n",
       "  </thead>\n",
       "  <tbody>\n",
       "    <tr>\n",
       "      <th>Augmented</th>\n",
       "      <td>0.335668</td>\n",
       "      <td>0.19385</td>\n",
       "      <td>0.603708</td>\n",
       "    </tr>\n",
       "    <tr>\n",
       "      <th>Baseline</th>\n",
       "      <td>0.457220</td>\n",
       "      <td>0.32726</td>\n",
       "      <td>0.330976</td>\n",
       "    </tr>\n",
       "  </tbody>\n",
       "</table>\n",
       "</div>"
      ],
      "text/plain": [
       "                MAE      MSE       R^2\n",
       "Augmented  0.335668  0.19385  0.603708\n",
       "Baseline   0.457220  0.32726  0.330976"
      ]
     },
     "execution_count": 31,
     "metadata": {},
     "output_type": "execute_result"
    }
   ],
   "source": [
    "# Display All\n",
    "perf = pd.DataFrame({'MAE': mae,\n",
    "                     'MSE': mse,\n",
    "                     'R^2': r2})\n",
    "perf"
   ]
  },
  {
   "cell_type": "markdown",
   "metadata": {},
   "source": [
    "## Overfitting & cross-validation\n",
    "\n",
    "* *What*, *Why*, *When* overfitting\n",
    "* Little data/lots of parameters --> *Mo* problems!\n",
    "* What is cross-validation"
   ]
  },
  {
   "cell_type": "code",
   "execution_count": 32,
   "metadata": {},
   "outputs": [],
   "source": [
    "# Split dataset into two subsets: a Training and Test dataframe. \n",
    "x_train, x_test, y_train, y_test = model_selection.train_test_split(db[cols], \n",
    "                                                                    db['l_price'],\n",
    "                                                                    test_size=0.8)"
   ]
  },
  {
   "cell_type": "code",
   "execution_count": 33,
   "metadata": {},
   "outputs": [],
   "source": [
    "# Train a model\n",
    "f = 'l_price ~ bedrooms + bathrooms + beds'\n",
    "m1_tr = sm.ols(f, x_train.assign(l_price=y_train)).fit()"
   ]
  },
  {
   "cell_type": "code",
   "execution_count": 34,
   "metadata": {},
   "outputs": [
    {
     "data": {
      "text/html": [
       "<div>\n",
       "<style scoped>\n",
       "    .dataframe tbody tr th:only-of-type {\n",
       "        vertical-align: middle;\n",
       "    }\n",
       "\n",
       "    .dataframe tbody tr th {\n",
       "        vertical-align: top;\n",
       "    }\n",
       "\n",
       "    .dataframe thead th {\n",
       "        text-align: right;\n",
       "    }\n",
       "</style>\n",
       "<table border=\"1\" class=\"dataframe\">\n",
       "  <thead>\n",
       "    <tr style=\"text-align: right;\">\n",
       "      <th></th>\n",
       "      <th>Full Dataset</th>\n",
       "      <th>Train Set</th>\n",
       "    </tr>\n",
       "  </thead>\n",
       "  <tbody>\n",
       "    <tr>\n",
       "      <th>Intercept</th>\n",
       "      <td>3.613890</td>\n",
       "      <td>3.595826</td>\n",
       "    </tr>\n",
       "    <tr>\n",
       "      <th>bedrooms</th>\n",
       "      <td>0.291420</td>\n",
       "      <td>0.275760</td>\n",
       "    </tr>\n",
       "    <tr>\n",
       "      <th>bathrooms</th>\n",
       "      <td>0.025511</td>\n",
       "      <td>0.041930</td>\n",
       "    </tr>\n",
       "    <tr>\n",
       "      <th>beds</th>\n",
       "      <td>0.146588</td>\n",
       "      <td>0.159557</td>\n",
       "    </tr>\n",
       "  </tbody>\n",
       "</table>\n",
       "</div>"
      ],
      "text/plain": [
       "           Full Dataset  Train Set\n",
       "Intercept      3.613890   3.595826\n",
       "bedrooms       0.291420   0.275760\n",
       "bathrooms      0.025511   0.041930\n",
       "beds           0.146588   0.159557"
      ]
     },
     "execution_count": 34,
     "metadata": {},
     "output_type": "execute_result"
    }
   ],
   "source": [
    "#Compare baseline model (Model 1) with the trained model outputs\n",
    "pd.DataFrame({'Full Dataset': m1.params,\n",
    "              'Train Set': m1_tr.params})"
   ]
  },
  {
   "cell_type": "code",
   "execution_count": 35,
   "metadata": {},
   "outputs": [
    {
     "data": {
      "text/plain": [
       "Full Dataset    0.330976\n",
       "Train Set       0.340606\n",
       "dtype: float64"
      ]
     },
     "execution_count": 35,
     "metadata": {},
     "output_type": "execute_result"
    }
   ],
   "source": [
    "#Extract the R-squared statistics of the two models and compare. \n",
    "pd.Series({'Full Dataset': m1.rsquared,\n",
    "              'Train Set': m1_tr.rsquared})"
   ]
  },
  {
   "cell_type": "code",
   "execution_count": 36,
   "metadata": {},
   "outputs": [
    {
     "data": {
      "text/plain": [
       "0-Full Dataset    0.330976\n",
       "1-Train Set       0.340606\n",
       "2-Test Set        0.328036\n",
       "dtype: float64"
      ]
     },
     "execution_count": 36,
     "metadata": {},
     "output_type": "execute_result"
    }
   ],
   "source": [
    "# Now Test on the Test Data\n",
    "test_pred = m1_tr.params['Intercept'] + \\\n",
    "            x_test.dot(m1_tr.params.drop('Intercept'))\n",
    "pd.Series({'0-Full Dataset': m1.rsquared,\n",
    "           '1-Train Set': m1_tr.rsquared,\n",
    "           '2-Test Set': metrics.r2_score(y_test,\n",
    "                                        test_pred)})"
   ]
  },
  {
   "cell_type": "markdown",
   "metadata": {},
   "source": [
    "To note:\n",
    "\n",
    "* Use of `assign`\n",
    "* $R^2$ increases with smaller train set, but decreases with testing (not much, which is good! why? Already regularised)"
   ]
  },
  {
   "cell_type": "code",
   "execution_count": 37,
   "metadata": {},
   "outputs": [
    {
     "name": "stdout",
     "output_type": "stream",
     "text": [
      "[0.34153919 0.32329916 0.32830449 0.32986118 0.32929761]\n"
     ]
    },
    {
     "data": {
      "text/plain": [
       "0.3304603277401932"
      ]
     },
     "execution_count": 37,
     "metadata": {},
     "output_type": "execute_result"
    }
   ],
   "source": [
    "rids = np.arange(db.shape[0])\n",
    "np.random.shuffle(rids)\n",
    "r2s = model_selection.cross_val_score(LinearRegression(),\n",
    "                                      db.iloc[rids, :][cols],\n",
    "                                      db.iloc[rids, :]['l_price'],\n",
    "                                      cv=5,\n",
    "                                      scoring='r2')\n",
    "print(r2s)\n",
    "r2s.mean()"
   ]
  },
  {
   "cell_type": "markdown",
   "metadata": {},
   "source": [
    "Just for the fun of it, let's replicate without reshufling IDs:"
   ]
  },
  {
   "cell_type": "code",
   "execution_count": 38,
   "metadata": {},
   "outputs": [
    {
     "name": "stdout",
     "output_type": "stream",
     "text": [
      "[ 0.16449518  0.34920339 -0.10119646  0.27579852  0.2976514 ]\n"
     ]
    },
    {
     "data": {
      "text/plain": [
       "0.19719040585934616"
      ]
     },
     "execution_count": 38,
     "metadata": {},
     "output_type": "execute_result"
    }
   ],
   "source": [
    "r2s = model_selection.cross_val_score(LinearRegression(),\n",
    "                                      db[cols],\n",
    "                                      db['l_price'],\n",
    "                                      cv=5,\n",
    "                                      scoring='r2')\n",
    "print(r2s)\n",
    "r2s.mean()"
   ]
  },
  {
   "cell_type": "markdown",
   "metadata": {},
   "source": [
    "To note:\n",
    "\n",
    "* What's happened?\n",
    "* The i.i.d. assumption\n",
    "* Structure in the data that is not incorporated\n",
    "* How is CV affected?"
   ]
  },
  {
   "cell_type": "code",
   "execution_count": 39,
   "metadata": {},
   "outputs": [
    {
     "data": {
      "image/png": "[encoded data removed]",
      "text/plain": [
       "<Figure size 864x1296 with 1 Axes>"
      ]
     },
     "metadata": {},
     "output_type": "display_data"
    }
   ],
   "source": [
    "f, ax = plt.subplots(1, figsize=(12, 18))\n",
    "sns.violinplot(x='index', \n",
    "               y='neighbourhood_cleansed', \n",
    "               data=db_all.reset_index(),\n",
    "               ax=ax);"
   ]
  },
  {
   "cell_type": "markdown",
   "metadata": {},
   "source": [
    "To note:\n",
    "\n",
    "* Spatial heterogeneity\n",
    "* More generally, group membership"
   ]
  },
  {
   "cell_type": "markdown",
   "metadata": {},
   "source": [
    "## More advanced predictive methods: the Random Forest"
   ]
  },
  {
   "cell_type": "code",
   "execution_count": 40,
   "metadata": {},
   "outputs": [],
   "source": [
    "m4 = RandomForestRegressor().fit(db[cols], db['l_price'])\\\n",
    "                            .predict(db[cols])"
   ]
  },
  {
   "cell_type": "markdown",
   "metadata": {},
   "source": [
    "To note:\n",
    "\n",
    "* First `fit`, then `predict` using the same features\n",
    "* No `params` here because it's a much more flexible functional form"
   ]
  },
  {
   "cell_type": "code",
   "execution_count": 41,
   "metadata": {},
   "outputs": [
    {
     "data": {
      "text/html": [
       "<div>\n",
       "<style scoped>\n",
       "    .dataframe tbody tr th:only-of-type {\n",
       "        vertical-align: middle;\n",
       "    }\n",
       "\n",
       "    .dataframe tbody tr th {\n",
       "        vertical-align: top;\n",
       "    }\n",
       "\n",
       "    .dataframe thead th {\n",
       "        text-align: right;\n",
       "    }\n",
       "</style>\n",
       "<table border=\"1\" class=\"dataframe\">\n",
       "  <thead>\n",
       "    <tr style=\"text-align: right;\">\n",
       "      <th></th>\n",
       "      <th>MAE</th>\n",
       "      <th>MSE</th>\n",
       "      <th>R^2</th>\n",
       "    </tr>\n",
       "  </thead>\n",
       "  <tbody>\n",
       "    <tr>\n",
       "      <th>Augmented</th>\n",
       "      <td>0.335668</td>\n",
       "      <td>0.193850</td>\n",
       "      <td>0.603708</td>\n",
       "    </tr>\n",
       "    <tr>\n",
       "      <th>Baseline</th>\n",
       "      <td>0.457220</td>\n",
       "      <td>0.327260</td>\n",
       "      <td>0.330976</td>\n",
       "    </tr>\n",
       "    <tr>\n",
       "      <th>RF</th>\n",
       "      <td>0.396705</td>\n",
       "      <td>0.255943</td>\n",
       "      <td>0.476769</td>\n",
       "    </tr>\n",
       "  </tbody>\n",
       "</table>\n",
       "</div>"
      ],
      "text/plain": [
       "                MAE       MSE       R^2\n",
       "Augmented  0.335668  0.193850  0.603708\n",
       "Baseline   0.457220  0.327260  0.330976\n",
       "RF         0.396705  0.255943  0.476769"
      ]
     },
     "execution_count": 41,
     "metadata": {},
     "output_type": "execute_result"
    }
   ],
   "source": [
    "rf = pd.Series({'R^2': metrics.r2_score(db['l_price'], m4), \n",
    "                'MSE': metrics.mean_squared_error(db['l_price'], m4),\n",
    "                'MAE': metrics.mean_absolute_error(db['l_price'], m4)})\n",
    "pd.concat([perf, \n",
    "           pd.DataFrame({'RF': rf}).T])"
   ]
  },
  {
   "cell_type": "markdown",
   "metadata": {},
   "source": [
    "To note:\n",
    "\n",
    "* Use of `concat`\n",
    "* Performance comparison\n",
    "\n",
    "But..."
   ]
  },
  {
   "cell_type": "code",
   "execution_count": 42,
   "metadata": {},
   "outputs": [],
   "source": [
    "m4_cv = RandomForestRegressor().fit(x_train, y_train)\\\n",
    "                               .predict(x_test)"
   ]
  },
  {
   "cell_type": "code",
   "execution_count": 43,
   "metadata": {},
   "outputs": [
    {
     "data": {
      "text/html": [
       "<div>\n",
       "<style scoped>\n",
       "    .dataframe tbody tr th:only-of-type {\n",
       "        vertical-align: middle;\n",
       "    }\n",
       "\n",
       "    .dataframe tbody tr th {\n",
       "        vertical-align: top;\n",
       "    }\n",
       "\n",
       "    .dataframe thead th {\n",
       "        text-align: right;\n",
       "    }\n",
       "</style>\n",
       "<table border=\"1\" class=\"dataframe\">\n",
       "  <thead>\n",
       "    <tr style=\"text-align: right;\">\n",
       "      <th></th>\n",
       "      <th>MAE</th>\n",
       "      <th>MSE</th>\n",
       "      <th>R^2</th>\n",
       "    </tr>\n",
       "  </thead>\n",
       "  <tbody>\n",
       "    <tr>\n",
       "      <th>Augmented</th>\n",
       "      <td>0.335668</td>\n",
       "      <td>0.193850</td>\n",
       "      <td>0.603708</td>\n",
       "    </tr>\n",
       "    <tr>\n",
       "      <th>Baseline</th>\n",
       "      <td>0.457220</td>\n",
       "      <td>0.327260</td>\n",
       "      <td>0.330976</td>\n",
       "    </tr>\n",
       "    <tr>\n",
       "      <th>RF</th>\n",
       "      <td>0.396705</td>\n",
       "      <td>0.255943</td>\n",
       "      <td>0.476769</td>\n",
       "    </tr>\n",
       "    <tr>\n",
       "      <th>RF-CV</th>\n",
       "      <td>0.402720</td>\n",
       "      <td>0.266619</td>\n",
       "      <td>0.455753</td>\n",
       "    </tr>\n",
       "  </tbody>\n",
       "</table>\n",
       "</div>"
      ],
      "text/plain": [
       "                MAE       MSE       R^2\n",
       "Augmented  0.335668  0.193850  0.603708\n",
       "Baseline   0.457220  0.327260  0.330976\n",
       "RF         0.396705  0.255943  0.476769\n",
       "RF-CV      0.402720  0.266619  0.455753"
      ]
     },
     "execution_count": 43,
     "metadata": {},
     "output_type": "execute_result"
    }
   ],
   "source": [
    "rf_cv = pd.Series({'R^2': metrics.r2_score(y_test, m4_cv), \n",
    "                'MSE': metrics.mean_squared_error(y_test, m4_cv),\n",
    "                'MAE': metrics.mean_absolute_error(y_test, m4_cv)})\n",
    "pd.concat([perf, \n",
    "           pd.DataFrame({'RF': rf}).T,\n",
    "           pd.DataFrame({'RF-CV': rf_cv}).T])"
   ]
  },
  {
   "cell_type": "markdown",
   "metadata": {},
   "source": [
    "To note:\n",
    "\n",
    "* `m4_cv` fits on train, predicts on test\n",
    "* Comparison RF Vs RF-CV\n"
   ]
  }
 ],
 "metadata": {
  "kernelspec": {
   "display_name": "Python 3",
   "language": "python",
   "name": "python3"
  },
  "language_info": {
   "codemirror_mode": {
    "name": "ipython",
    "version": 3
   },
   "file_extension": ".py",
   "mimetype": "text/x-python",
   "name": "python",
   "nbconvert_exporter": "python",
   "pygments_lexer": "ipython3",
   "version": "3.6.7"
  }
 },
 "nbformat": 4,
 "nbformat_minor": 2
}
