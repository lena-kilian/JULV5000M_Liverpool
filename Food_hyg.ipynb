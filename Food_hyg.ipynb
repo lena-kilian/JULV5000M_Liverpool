{
 "cells": [
  {
   "cell_type": "code",
   "execution_count": 1,
   "metadata": {},
   "outputs": [],
   "source": [
    "import pandas as pd\n",
    "import requests\n",
    "import json"
   ]
  },
  {
   "cell_type": "code",
   "execution_count": 93,
   "metadata": {},
   "outputs": [],
   "source": [
    "url = ('http://ratings.food.gov.uk/search/en-GB/^/leeds/1/8000/json') # uise a high number to get all restaurants! \n",
    "#url = 'http://ratings.food.gov.uk/search-address/manchester/json'\n",
    "\n",
    "# get data via api\n",
    "r = requests.get(url)\n",
    "# Very large, showing only first 100 chars\n",
    "# r.content[:100]\n",
    "# convert to json\n",
    "ratings_all_data = json.loads(r.content)"
   ]
  },
  {
   "cell_type": "code",
   "execution_count": 75,
   "metadata": {},
   "outputs": [],
   "source": [
    "def parse_ratings(rating):\n",
    "    ratings_parsed = pd.Series({'la_business_id': rating['EstablishmentCollection']['EstablishmentDetail']['LocalAuthorityBusinessID'], \\\n",
    "                                'name': rating['EstablishmentCollection']['EstablishmentDetail']['BusinessName'], \\\n",
    "                                'type': rating['EstablishmentCollection']['EstablishmentDetail']['BusinessType'],\\\n",
    "                                'type_id': rating['EstablishmentCollection']['EstablishmentDetail']['BusinessTypeID'], \\\n",
    "                                'rating_date': rating['EstablishmentCollection']['EstablishmentDetail']['RatingDate'], \\\n",
    "                                'post_code': rating['EstablishmentCollection']['EstablishmentDetail']['PostCode'], \\\n",
    "                                'location': rating['EstablishmentCollection']['EstablishmentDetail']['Geocode'], \\\n",
    "                                'rating_value': rating['EstablishmentCollection']['EstablishmentDetail']['RatingValue'], \\\n",
    "                                'ratings': rating['EstablishmentCollection']['EstablishmentDetail']['Scores']\n",
    "                               })\n",
    "    return ratings_parsed"
   ]
  },
  {
   "cell_type": "code",
   "execution_count": 94,
   "metadata": {},
   "outputs": [],
   "source": [
    "ratings = ratings_all_data['FHRSEstablishment']['EstablishmentCollection']['EstablishmentDetail']"
   ]
  },
  {
   "cell_type": "code",
   "execution_count": 95,
   "metadata": {},
   "outputs": [
    {
     "data": {
      "text/plain": [
       "4530"
      ]
     },
     "execution_count": 95,
     "metadata": {},
     "output_type": "execute_result"
    }
   ],
   "source": [
    "len(ratings)"
   ]
  },
  {
   "cell_type": "code",
   "execution_count": 96,
   "metadata": {},
   "outputs": [
    {
     "data": {
      "text/plain": [
       "{'FHRSID': '1090610',\n",
       " 'LocalAuthorityBusinessID': '18/00868/COMM',\n",
       " 'BusinessName': 'Zulfis',\n",
       " 'BusinessType': 'Takeaway/sandwich shop',\n",
       " 'BusinessTypeID': '7844',\n",
       " 'AddressLine1': '66 Brudenell Road',\n",
       " 'AddressLine2': 'Hyde Park',\n",
       " 'AddressLine3': 'Leeds',\n",
       " 'AddressLine4': None,\n",
       " 'PostCode': 'LS6 1EG',\n",
       " 'RatingValue': '3',\n",
       " 'RatingKey': 'fhrs_3_en-gb',\n",
       " 'RightToReply': None,\n",
       " 'RatingDate': '14 November 2018',\n",
       " 'LocalAuthorityCode': '413',\n",
       " 'LocalAuthorityName': 'Leeds',\n",
       " 'LocalAuthorityWebSite': 'http://www.leeds.gov.uk/',\n",
       " 'LocalAuthorityEmailAddress': 'food.safety@leeds.gov.uk',\n",
       " 'Scores': {'Hygiene': '10',\n",
       "  'Structural': '10',\n",
       "  'ConfidenceInManagement': '10'},\n",
       " 'SchemeType': 'FHRS',\n",
       " 'NewRatingPending': 'false',\n",
       " 'Geocode': {'Longitude': '-1.569716', 'Latitude': '53.8122864'},\n",
       " 'Distance': {'@xsi:nil': 'true'}}"
      ]
     },
     "execution_count": 96,
     "metadata": {},
     "output_type": "execute_result"
    }
   ],
   "source": [
    "ratings[len(ratings) - 1]"
   ]
  }
 ],
 "metadata": {
  "kernelspec": {
   "display_name": "Python 3",
   "language": "python",
   "name": "python3"
  },
  "language_info": {
   "codemirror_mode": {
    "name": "ipython",
    "version": 3
   },
   "file_extension": ".py",
   "mimetype": "text/x-python",
   "name": "python",
   "nbconvert_exporter": "python",
   "pygments_lexer": "ipython3",
   "version": "3.6.6"
  }
 },
 "nbformat": 4,
 "nbformat_minor": 2
}
