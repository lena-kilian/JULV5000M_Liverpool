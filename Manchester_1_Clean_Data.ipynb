{
 "cells": [
  {
   "cell_type": "markdown",
   "metadata": {},
   "source": [
    "Import libraries"
   ]
  },
  {
   "cell_type": "code",
   "execution_count": 1,
   "metadata": {},
   "outputs": [],
   "source": [
    "import pandas as pd\n",
    "import numpy as np\n",
    "import requests\n",
    "import json\n",
    "import os\n",
    "import geopandas as gpd\n",
    "import copy as cp"
   ]
  },
  {
   "cell_type": "code",
   "execution_count": 2,
   "metadata": {},
   "outputs": [],
   "source": [
    "# get data and write to files\n",
    "\n",
    "ic_url = 'http://opendatacommunities.org/downloads/cube-table?uri=http%3A%2F%2Fopendatacommunities.org%2Fdata%2Fsocietal-wellbeing%2Fdeprivation%2Fimd-income-score-2010'\n",
    "\n",
    "r = requests.get(ic_url)\n",
    "name = ic_url.split('%2F')[-2] + '_' + ic_url.split('%2F')[-1]\n",
    "fo = open(name + '.csv', 'wb')\n",
    "fo.write(r.content)\n",
    "fo.close()"
   ]
  },
  {
   "cell_type": "code",
   "execution_count": 32,
   "metadata": {},
   "outputs": [],
   "source": [
    "# load files (those that were just downloaded, plus the census one)\n",
    "\n",
    "imd_income = pd.read_csv('deprivation_imd-income-score-2010.csv')\n",
    "\n",
    "cen_age = pd.read_csv('raw_data/Data_AGE_UNIT.csv')\n",
    "cen_health = pd.read_csv('raw_data/Data_HEALTH_UNIT.csv')\n",
    "cen_heat = pd.read_csv('raw_data/Data_HEAT_UNIT.csv')\n",
    "cen_depr = pd.read_csv('raw_data/Data_DEPR_UNIT.csv')\n",
    "cen_hhold = pd.read_csv('raw_data/Data_HOUSE_UNIT.csv')\n",
    "cen_ethgrp = pd.read_csv('raw_data/Data_ETHGRP_UNIT.csv')\n",
    "cen_cars = pd.read_csv('raw_data/Data_CARS_UNIT.csv')"
   ]
  },
  {
   "cell_type": "code",
   "execution_count": 62,
   "metadata": {},
   "outputs": [],
   "source": [
    "# make functions to organise data\n",
    "\n",
    "def clean_census_data(data):\n",
    "    # remove unwanted columns\n",
    "    clean_data = (data.drop(['CDU_ID', 'GEO_LABEL', 'GEO_TYPE', 'GEO_TYP2'], axis =1)\\\n",
    "                  .drop([0], axis = 0)\\\n",
    "                  .set_index('GEO_CODE')\\\n",
    "                  .T)\n",
    "    \n",
    "    clean_data = clean_data.dropna(axis = 0).T\n",
    "    \n",
    "    return(clean_data)"
   ]
  },
  {
   "cell_type": "code",
   "execution_count": 57,
   "metadata": {},
   "outputs": [],
   "source": [
    "data_age = clean_census_data(cen_age)\n",
    "data_health = clean_census_data(cen_health)\n",
    "data_heat = clean_census_data(cen_heat)\n",
    "data_depr = clean_census_data(cen_depr)\n",
    "data_hhold = clean_census_data(cen_hhold)\n",
    "data_ethgrp = clean_census_data(cen_ethgrp)\n",
    "data_cars = clean_census_data(cen_cars)"
   ]
  },
  {
   "cell_type": "code",
   "execution_count": 60,
   "metadata": {},
   "outputs": [],
   "source": [
    "data_age.to_csv('data/cleaned_age.csv')\n",
    "data_health.to_csv('data/cleaned_health.csv')\n",
    "data_heat.to_csv('data/cleaned_heat.csv')\n",
    "data_depr.to_csv('data/cleaned_depr.csv')\n",
    "data_hhold.to_csv('data/cleaned_hhold.csv')\n",
    "data_ethgrp.to_csv('data/cleaned_ethgrp.csv')\n",
    "data_cars.to_csv('data/cleaned_cars.csv')"
   ]
  },
  {
   "cell_type": "code",
   "execution_count": 70,
   "metadata": {},
   "outputs": [],
   "source": [
    "def get_meta_data(data):\n",
    "    # remove unwanted columns\n",
    "    meta_data = (data.dropna(axis = 1)\\\n",
    "                .iloc[:1]\\\n",
    "                .T\\\n",
    "                )\n",
    "    \n",
    "    # separate into various columns\n",
    "    for i in range(meta_data.iloc[0][0].count(' - ')):\n",
    "        name = str(meta_data.iloc[0][0].split(' - ')[i].split(' : ')[0])\n",
    "        \n",
    "        # extract individual strings\n",
    "        temp_list = []\n",
    "        for j in range(len(meta_data)):\n",
    "            var_string = str(meta_data.iloc[j][0].split(' - ')[i].split(' : ')[1])\n",
    "            temp_list.append(var_string)\n",
    "            #print(temp_list)\n",
    "\n",
    "        # make columns\n",
    "        meta_data[name] = temp_list\n",
    "        #print(temp_list)\n",
    "        \n",
    "    # remove unwanted column\n",
    "    meta_data = meta_data.drop([0], axis = 1)\n",
    "    \n",
    "    # clean headers\n",
    "    meta_data.columns = meta_data.columns.str.strip().str.lower().str.replace(' ', '_').str.replace(')', '').str.replace('(', '').str.replace(';', '')\n",
    "        \n",
    "    return(meta_data)"
   ]
  },
  {
   "cell_type": "code",
   "execution_count": 74,
   "metadata": {},
   "outputs": [],
   "source": [
    "meta_age = get_meta_data(cen_age)\n",
    "meta_health = get_meta_data(cen_health)\n",
    "meta_heat = get_meta_data(cen_heat)\n",
    "meta_depr = get_meta_data(cen_depr)\n",
    "meta_hhold = get_meta_data(cen_hhold)\n",
    "meta_ethgrp = get_meta_data(cen_ethgrp)\n",
    "meta_cars = get_meta_data(cen_cars)"
   ]
  },
  {
   "cell_type": "code",
   "execution_count": 80,
   "metadata": {},
   "outputs": [],
   "source": [
    "meta_data = meta_age.append(meta_health).append(meta_heat).append(meta_depr).append(meta_hhold).append(meta_ethgrp).append(meta_cars)"
   ]
  },
  {
   "cell_type": "code",
   "execution_count": 81,
   "metadata": {},
   "outputs": [],
   "source": [
    "meta_data.to_csv('data/meta_all.csv')"
   ]
  },
  {
   "cell_type": "code",
   "execution_count": null,
   "metadata": {},
   "outputs": [],
   "source": [
    "neis = gpd.read_file('lsoas/Lower_Layer_Super_Output_Areas_December_2001_Generalised_Clipped_Boundaries_in_England_and_Wales.shp')"
   ]
  },
  {
   "cell_type": "code",
   "execution_count": null,
   "metadata": {},
   "outputs": [],
   "source": [
    "neis.plot()"
   ]
  }
 ],
 "metadata": {
  "kernelspec": {
   "display_name": "Python 3",
   "language": "python",
   "name": "python3"
  },
  "language_info": {
   "codemirror_mode": {
    "name": "ipython",
    "version": 3
   },
   "file_extension": ".py",
   "mimetype": "text/x-python",
   "name": "python",
   "nbconvert_exporter": "python",
   "pygments_lexer": "ipython3",
   "version": "3.6.6"
  }
 },
 "nbformat": 4,
 "nbformat_minor": 2
}
