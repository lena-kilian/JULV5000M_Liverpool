{
 "cells": [
  {
   "cell_type": "code",
   "execution_count": 17,
   "metadata": {},
   "outputs": [],
   "source": [
    "import pandas as pd\n",
    "import geopandas as gpd\n",
    "import copy as cp"
   ]
  },
  {
   "cell_type": "code",
   "execution_count": 55,
   "metadata": {},
   "outputs": [],
   "source": [
    "la_data = pd.read_csv('shapefiles/manlsoala.csv').set_index('geo_code')\n",
    "\n",
    "lsoa_data = gpd.read_file('shapefiles/man_lsoa_all.shp').set_index('geo_code')"
   ]
  },
  {
   "cell_type": "code",
   "execution_count": 56,
   "metadata": {},
   "outputs": [],
   "source": [
    "all_data = lsoa_data"
   ]
  },
  {
   "cell_type": "code",
   "execution_count": 57,
   "metadata": {},
   "outputs": [
    {
     "data": {
      "text/html": [
       "<div>\n",
       "<style scoped>\n",
       "    .dataframe tbody tr th:only-of-type {\n",
       "        vertical-align: middle;\n",
       "    }\n",
       "\n",
       "    .dataframe tbody tr th {\n",
       "        vertical-align: top;\n",
       "    }\n",
       "\n",
       "    .dataframe thead th {\n",
       "        text-align: right;\n",
       "    }\n",
       "</style>\n",
       "<table border=\"1\" class=\"dataframe\">\n",
       "  <thead>\n",
       "    <tr style=\"text-align: right;\">\n",
       "      <th></th>\n",
       "      <th>FID_1</th>\n",
       "      <th>geo_label</th>\n",
       "      <th>geometry</th>\n",
       "      <th>la</th>\n",
       "    </tr>\n",
       "    <tr>\n",
       "      <th>geo_code</th>\n",
       "      <th></th>\n",
       "      <th></th>\n",
       "      <th></th>\n",
       "      <th></th>\n",
       "    </tr>\n",
       "  </thead>\n",
       "  <tbody>\n",
       "    <tr>\n",
       "      <th>E01004962</th>\n",
       "      <td>34</td>\n",
       "      <td>Bury 009C</td>\n",
       "      <td>POLYGON ((378830 411826, 378829.855 411826.193...</td>\n",
       "      <td>Bury</td>\n",
       "    </tr>\n",
       "    <tr>\n",
       "      <th>E01005025</th>\n",
       "      <td>92</td>\n",
       "      <td>Bury 011A</td>\n",
       "      <td>POLYGON ((379875 410309, 379877 410307, 379887...</td>\n",
       "      <td>Bury</td>\n",
       "    </tr>\n",
       "    <tr>\n",
       "      <th>E01005865</th>\n",
       "      <td>124</td>\n",
       "      <td>Stockport 008B</td>\n",
       "      <td>POLYGON ((387265.633 392486.739, 387265.33 392...</td>\n",
       "      <td>Stockport</td>\n",
       "    </tr>\n",
       "    <tr>\n",
       "      <th>E01006232</th>\n",
       "      <td>139</td>\n",
       "      <td>Wigan 004B</td>\n",
       "      <td>POLYGON ((357914.404 410078.646, 357912.878 41...</td>\n",
       "      <td>Wigan</td>\n",
       "    </tr>\n",
       "    <tr>\n",
       "      <th>E01005501</th>\n",
       "      <td>159</td>\n",
       "      <td>Rochdale 018B</td>\n",
       "      <td>POLYGON ((385543.964 410797.754, 385540.428 41...</td>\n",
       "      <td>Rochdale</td>\n",
       "    </tr>\n",
       "  </tbody>\n",
       "</table>\n",
       "</div>"
      ],
      "text/plain": [
       "           FID_1       geo_label  \\\n",
       "geo_code                           \n",
       "E01004962     34       Bury 009C   \n",
       "E01005025     92       Bury 011A   \n",
       "E01005865    124  Stockport 008B   \n",
       "E01006232    139      Wigan 004B   \n",
       "E01005501    159   Rochdale 018B   \n",
       "\n",
       "                                                    geometry         la  \n",
       "geo_code                                                                 \n",
       "E01004962  POLYGON ((378830 411826, 378829.855 411826.193...       Bury  \n",
       "E01005025  POLYGON ((379875 410309, 379877 410307, 379887...       Bury  \n",
       "E01005865  POLYGON ((387265.633 392486.739, 387265.33 392...  Stockport  \n",
       "E01006232  POLYGON ((357914.404 410078.646, 357912.878 41...      Wigan  \n",
       "E01005501  POLYGON ((385543.964 410797.754, 385540.428 41...   Rochdale  "
      ]
     },
     "execution_count": 57,
     "metadata": {},
     "output_type": "execute_result"
    }
   ],
   "source": [
    "all_data.head()"
   ]
  },
  {
   "cell_type": "code",
   "execution_count": null,
   "metadata": {},
   "outputs": [],
   "source": [
    "all_data[(all_data.la == \"Manchester\")]"
   ]
  }
 ],
 "metadata": {
  "kernelspec": {
   "display_name": "Python 3",
   "language": "python",
   "name": "python3"
  },
  "language_info": {
   "codemirror_mode": {
    "name": "ipython",
    "version": 3
   },
   "file_extension": ".py",
   "mimetype": "text/x-python",
   "name": "python",
   "nbconvert_exporter": "python",
   "pygments_lexer": "ipython3",
   "version": "3.6.7"
  }
 },
 "nbformat": 4,
 "nbformat_minor": 2
}
