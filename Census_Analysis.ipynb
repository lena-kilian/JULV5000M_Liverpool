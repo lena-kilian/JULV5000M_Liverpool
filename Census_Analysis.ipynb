{
 "cells": [
  {
   "cell_type": "code",
   "execution_count": null,
   "metadata": {},
   "outputs": [],
   "source": [
    "import pandas as pd\n",
    "import numpy as np\n",
    "import requests\n",
    "import json\n",
    "import os\n",
    "import geopandas as gpd\n",
    "import copy as cp"
   ]
  },
  {
   "cell_type": "code",
   "execution_count": null,
   "metadata": {},
   "outputs": [],
   "source": [
    "# load files (those that were just downloaded, plus the census one)\n",
    "\n",
    "cen_health = pd.read_csv('census_data/health.csv')\n",
    "cen_depr = pd.read_csv('census_data/deprivation.csv')"
   ]
  },
  {
   "cell_type": "code",
   "execution_count": null,
   "metadata": {},
   "outputs": [],
   "source": [
    "cen_heat = pd.read_csv('census_data/heating.csv')"
   ]
  },
  {
   "cell_type": "code",
   "execution_count": null,
   "metadata": {},
   "outputs": [],
   "source": [
    "cen_househ = pd.read_csv('census_data/households.csv')"
   ]
  },
  {
   "cell_type": "code",
   "execution_count": null,
   "metadata": {},
   "outputs": [],
   "source": [
    "cen_disab = pd.read_csv('census_data/disability.csv')"
   ]
  },
  {
   "cell_type": "code",
   "execution_count": null,
   "metadata": {},
   "outputs": [],
   "source": [
    "cen_car = pd.read_csv('census_data/car_avail.csv')"
   ]
  },
  {
   "cell_type": "code",
   "execution_count": null,
   "metadata": {},
   "outputs": [],
   "source": [
    "cen_car.head()"
   ]
  },
  {
   "cell_type": "code",
   "execution_count": null,
   "metadata": {},
   "outputs": [],
   "source": [
    "# make functions to organise data\n",
    "\n",
    "def get_meta_data(data):\n",
    "    # remove unwanted columns\n",
    "    meta_data = (data.drop(['CDU_ID', 'GEO_CODE', 'GEO_LABEL', 'GEO_TYPE', 'GEO_TYP2'], axis = 1)\\\n",
    "                .iloc[:1]\\\n",
    "                .T\n",
    "                )\n",
    "    \n",
    "    # separate into various columns\n",
    "    for i in range(meta_data.iloc[0][0].count(' - ')):\n",
    "        name = str(meta_data.iloc[0][0].split(' - ')[i].split(' : ')[0])\n",
    "        \n",
    "        # extract individual strings\n",
    "        temp_list = []\n",
    "        for j in range(len(meta_data)):\n",
    "            var_string = str(meta_data.iloc[j][0].split(' - ')[i].split(' : ')[1])\n",
    "            temp_list.append(var_string)\n",
    "            #print(temp_list)\n",
    "\n",
    "        # make columns\n",
    "        meta_data[name] = temp_list\n",
    "        #print(temp_list)\n",
    "        \n",
    "    # remove unwanted column\n",
    "    meta_data = meta_data.drop([0], axis = 1)\n",
    "    \n",
    "    # clean headers\n",
    "    meta_data.columns = meta_data.columns.str.strip().str.lower().str.replace(' ', '_').str.replace(')', '').str.replace('(', '').str.replace(';', '')\n",
    "        \n",
    "    return(meta_data)\n",
    "\n",
    "\n",
    "def clean_census_data(data):\n",
    "    # remove unwanted columns\n",
    "    clean_data = (data.drop(['CDU_ID', 'GEO_LABEL', 'GEO_TYPE', 'GEO_TYP2'], axis =1)\\\n",
    "                  .drop([0], axis = 0)\\\n",
    "                  .set_index('GEO_CODE')\\\n",
    "                  .T)\n",
    "    \n",
    "    # merge with census data\n",
    "    #meta_data = get_meta_data(data)\n",
    "    #clean_data = meta_data.join(clean_data)\n",
    "    \n",
    "    return(clean_data)\n",
    "\n",
    "def filter_totals(cen_data):\n",
    "    \n",
    "    meta_data = get_meta_data(cen_data)\n",
    "\n",
    "    for i in range(len(meta_data)):\n",
    "        for j in range(len(meta_data.columns)):\n",
    "            if 'Total\\ ' in meta_data.iloc[i][j]: #dat.iloc[1][3] # [row] [column]\n",
    "                meta_data.iloc[i][j] = np.nan\n",
    "            \n",
    "    meta_data = meta_data.dropna(axis = 0)\n",
    "    \n",
    "    # get column names for filtering\n",
    "    cl_cen_dat = clean_census_data(cen_data)\n",
    "    col_list = []\n",
    "    for i in range(len(cl_cen_dat.columns)):\n",
    "        if 'E01' in cl_cen_dat.columns[i]:\n",
    "            col_list.append(cl_cen_dat.columns[i])\n",
    "    \n",
    "    # merge with census data\n",
    "    data = meta_data.join(cl_cen_dat)\n",
    "    data = data[col_list]\n",
    "    \n",
    "    return(data.T)"
   ]
  },
  {
   "cell_type": "code",
   "execution_count": null,
   "metadata": {},
   "outputs": [],
   "source": [
    "def pnt_of_tot(old_data):\n",
    "    \n",
    "    data = old_data.T.astype(int)\n",
    "    data['sum'] = data.sum(axis = 1, skipna = all)\n",
    "    \n",
    "    new_df = pd.DataFrame(index = data.index, columns = data.columns)\n",
    "    for i in range(len(data)):\n",
    "        for j in range(int(len(data.columns) - 1)):\n",
    "            new_df.iloc[i][j] = (data.iloc[i][j] / data.iloc[i][int(len(data.columns) - 1)] * 100)\n",
    "    \n",
    "    new_df = new_df.dropna(axis = 1)\n",
    "\n",
    "    return(new_df)"
   ]
  },
  {
   "cell_type": "code",
   "execution_count": null,
   "metadata": {},
   "outputs": [],
   "source": [
    "dat_car = pnt_of_tot(filter_totals(cen_car))"
   ]
  },
  {
   "cell_type": "code",
   "execution_count": null,
   "metadata": {},
   "outputs": [],
   "source": [
    "dat_health = pnt_of_tot(filter_totals(cen_health))"
   ]
  },
  {
   "cell_type": "code",
   "execution_count": null,
   "metadata": {},
   "outputs": [],
   "source": [
    "dat_depr = pnt_of_tot(filter_totals(cen_depr))"
   ]
  },
  {
   "cell_type": "code",
   "execution_count": null,
   "metadata": {},
   "outputs": [],
   "source": [
    "dat_house = pnt_of_tot(filter_totals(cen_househ))"
   ]
  },
  {
   "cell_type": "code",
   "execution_count": null,
   "metadata": {},
   "outputs": [],
   "source": [
    "dat_house = pnt_of_tot(filter_totals(cen_househ))"
   ]
  }
 ],
 "metadata": {
  "kernelspec": {
   "display_name": "Python 3",
   "language": "python",
   "name": "python3"
  },
  "language_info": {
   "codemirror_mode": {
    "name": "ipython",
    "version": 3
   },
   "file_extension": ".py",
   "mimetype": "text/x-python",
   "name": "python",
   "nbconvert_exporter": "python",
   "pygments_lexer": "ipython3",
   "version": "3.6.6"
  }
 },
 "nbformat": 4,
 "nbformat_minor": 2
}
