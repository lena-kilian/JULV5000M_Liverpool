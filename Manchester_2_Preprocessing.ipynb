{
 "cells": [
  {
   "cell_type": "code",
   "execution_count": 1,
   "metadata": {},
   "outputs": [],
   "source": [
    "import pandas as pd\n",
    "import numpy as np\n",
    "import matplotlib.pyplot as plt\n",
    "import seaborn as sns\n",
    "from sklearn import preprocessing"
   ]
  },
  {
   "cell_type": "code",
   "execution_count": 2,
   "metadata": {},
   "outputs": [],
   "source": [
    "data_age = pd.read_csv('data/cleaned_age.csv')\n",
    "data_health = pd.read_csv('data/cleaned_health.csv')\n",
    "data_heat = pd.read_csv('data/cleaned_heat.csv')\n",
    "data_depr = pd.read_csv('data/cleaned_depr.csv')\n",
    "data_hhold = pd.read_csv('data/cleaned_hhold.csv')\n",
    "data_ethgrp = pd.read_csv('data/cleaned_ethgrp.csv')\n",
    "data_cars = pd.read_csv('data/cleaned_cars.csv')\n",
    "\n",
    "meta_data = pd.read_csv('data/meta_all.csv')\n",
    "\n",
    "lsoa_data = pd.read_csv('manchester_data_la.csv', sep = ',')\n",
    "\n",
    "#data_ge = pd.read_csv('raw_data/man_meanGandE.csv', sep = ',')"
   ]
  },
  {
   "cell_type": "code",
   "execution_count": 3,
   "metadata": {},
   "outputs": [],
   "source": [
    "def prop_of_tot(old_data):\n",
    "    \n",
    "    data = old_data.set_index('GEO_CODE').astype(int)\n",
    "    data['sum'] = data.sum(axis = 1, skipna = all)\n",
    "    \n",
    "    new_df = pd.DataFrame(index = data.index, columns = data.columns)\n",
    "    for i in range(len(data)):\n",
    "        for j in range(int(len(data.columns) - 1)):\n",
    "            new_df.iloc[i][j] = (data.iloc[i][j] / data.iloc[i][int(len(data.columns) - 1)])\n",
    "    \n",
    "    new_df = new_df.dropna(axis = 1)\n",
    "\n",
    "    return(new_df)"
   ]
  },
  {
   "cell_type": "code",
   "execution_count": 4,
   "metadata": {},
   "outputs": [],
   "source": [
    "prop_health = prop_of_tot(data_health)\n",
    "prop_heat = prop_of_tot(data_heat)\n",
    "prop_depr = prop_of_tot(data_depr)\n",
    "prop_cars = prop_of_tot(data_cars)\n",
    "prop_ethgrp = prop_of_tot(data_ethgrp)"
   ]
  },
  {
   "cell_type": "code",
   "execution_count": 5,
   "metadata": {},
   "outputs": [],
   "source": [
    "prop_health['badhealth'] = prop_health['F1777'] + prop_health['F1782']"
   ]
  },
  {
   "cell_type": "code",
   "execution_count": 6,
   "metadata": {},
   "outputs": [],
   "source": [
    "prop_depr['depr_3+'] = prop_depr['F1000'] + prop_depr['F1001']"
   ]
  },
  {
   "cell_type": "code",
   "execution_count": 7,
   "metadata": {},
   "outputs": [],
   "source": [
    "prop_ethgrp['F166x'] = prop_ethgrp['F1664'] + prop_ethgrp['F1665'] + prop_ethgrp['F1666'] + prop_ethgrp['F1667']"
   ]
  },
  {
   "cell_type": "code",
   "execution_count": 8,
   "metadata": {},
   "outputs": [],
   "source": [
    "data_ethgrp = data_ethgrp.set_index('GEO_CODE')\n",
    "\n",
    "for i in range(len(data_ethgrp)):\n",
    "    for j in range(len(data_ethgrp.columns)):\n",
    "        data_ethgrp.iloc[i][j] = data_ethgrp.iloc[i][j] ** 2\n",
    "\n",
    "data_ethgrp['hhi'] = data_ethgrp.sum(axis = 1, skipna = all)"
   ]
  },
  {
   "cell_type": "code",
   "execution_count": 9,
   "metadata": {},
   "outputs": [],
   "source": [
    "data_ethgrp = data_ethgrp[['hhi']]"
   ]
  },
  {
   "cell_type": "code",
   "execution_count": 11,
   "metadata": {},
   "outputs": [
    {
     "name": "stderr",
     "output_type": "stream",
     "text": [
      "C:\\Users\\gylk\\AppData\\Local\\Continuum\\anaconda3\\envs\\gds\\lib\\site-packages\\sklearn\\utils\\validation.py:595: DataConversionWarning: Data with input dtype int64 was converted to float64 by MinMaxScaler.\n",
      "  warnings.warn(msg, DataConversionWarning)\n"
     ]
    }
   ],
   "source": [
    "# normalise hhi --> turns to array\n",
    "min_max_scaler = preprocessing.MinMaxScaler()\n",
    "x_scaled = min_max_scaler.fit_transform(data_ethgrp.values)"
   ]
  },
  {
   "cell_type": "code",
   "execution_count": 12,
   "metadata": {},
   "outputs": [],
   "source": [
    "hhi_list = []\n",
    "\n",
    "for i in range(len(x_scaled)):\n",
    "    hhi_list.append(float(x_scaled[i]))"
   ]
  },
  {
   "cell_type": "code",
   "execution_count": 13,
   "metadata": {},
   "outputs": [],
   "source": [
    "data_ethgrp['hhi_norm'] = hhi_list"
   ]
  },
  {
   "cell_type": "code",
   "execution_count": 14,
   "metadata": {},
   "outputs": [],
   "source": [
    "data_ethgrp = data_ethgrp[['hhi_norm']].join(prop_ethgrp[['F166x']])"
   ]
  },
  {
   "cell_type": "code",
   "execution_count": 15,
   "metadata": {},
   "outputs": [],
   "source": [
    "data_hhold = data_hhold.set_index('GEO_CODE')\n",
    "data_age = data_age.set_index('GEO_CODE')"
   ]
  },
  {
   "cell_type": "code",
   "execution_count": 16,
   "metadata": {},
   "outputs": [],
   "source": [
    "prop_hhold = pd.DataFrame(index = data_hhold.index, columns = data_hhold.columns)\n",
    "\n",
    "for i in range(len(data_hhold)):\n",
    "    for j in range(1, len(data_hhold.columns)):\n",
    "        prop_hhold.iloc[i][j] = (data_hhold.iloc[i][j] / data_hhold.iloc[i][0])\n",
    "        \n",
    "prop_hhold = prop_hhold.dropna(axis = 1)"
   ]
  },
  {
   "cell_type": "code",
   "execution_count": 36,
   "metadata": {},
   "outputs": [],
   "source": [
    "# join data\n",
    "\n",
    "man_data = prop_health.join(prop_heat).join(prop_depr).join(prop_cars).join(prop_hhold).join(data_age).join(data_ethgrp)"
   ]
  },
  {
   "cell_type": "code",
   "execution_count": 37,
   "metadata": {},
   "outputs": [],
   "source": [
    "tokeep = ['F184', 'F185', 'badhealth', 'F2345', 'F997', 'depr_3+', 'F1838', 'F991', 'hhi_norm', 'F166x'] \n",
    "\n",
    "man_data = (man_data[tokeep].rename(columns = {'F184':'age_mean',\n",
    "                                               'F185':'age_median',\n",
    "                                               'F2345':'centheat',\n",
    "                                               'F997':'nodepr',\n",
    "                                               'F1838':'studenthhold',\n",
    "                                               'F166x':'ethwhite',\n",
    "                                               'F991':'nocars',\n",
    "                                               'hhi_norm':'eth_hhi'})\\\n",
    "           .astype(np.float))"
   ]
  },
  {
   "cell_type": "code",
   "execution_count": 19,
   "metadata": {},
   "outputs": [],
   "source": [
    "#data_ge = data_ge.set_index('geo_code')[['mean_elect', 'mean_gas']]"
   ]
  },
  {
   "cell_type": "code",
   "execution_count": 20,
   "metadata": {},
   "outputs": [],
   "source": [
    "lsoa_data = lsoa_data.set_index('geo_code_lsoa')"
   ]
  },
  {
   "cell_type": "code",
   "execution_count": 38,
   "metadata": {},
   "outputs": [],
   "source": [
    "all_data = lsoa_data[['local_auth']].join(man_data)#.join(data_ge)"
   ]
  },
  {
   "cell_type": "code",
   "execution_count": 22,
   "metadata": {},
   "outputs": [
    {
     "data": {
      "text/html": [
       "<div>\n",
       "<style scoped>\n",
       "    .dataframe tbody tr th:only-of-type {\n",
       "        vertical-align: middle;\n",
       "    }\n",
       "\n",
       "    .dataframe tbody tr th {\n",
       "        vertical-align: top;\n",
       "    }\n",
       "\n",
       "    .dataframe thead th {\n",
       "        text-align: right;\n",
       "    }\n",
       "</style>\n",
       "<table border=\"1\" class=\"dataframe\">\n",
       "  <thead>\n",
       "    <tr style=\"text-align: right;\">\n",
       "      <th></th>\n",
       "      <th>local_auth</th>\n",
       "      <th>age_mean</th>\n",
       "      <th>badhealth</th>\n",
       "      <th>centheat</th>\n",
       "      <th>nodepr</th>\n",
       "      <th>depr_3+</th>\n",
       "      <th>studenthhold</th>\n",
       "      <th>nocars</th>\n",
       "      <th>eth_hhi</th>\n",
       "      <th>F166x</th>\n",
       "      <th>mean_elect</th>\n",
       "      <th>mean_gas</th>\n",
       "    </tr>\n",
       "    <tr>\n",
       "      <th>geo_code_lsoa</th>\n",
       "      <th></th>\n",
       "      <th></th>\n",
       "      <th></th>\n",
       "      <th></th>\n",
       "      <th></th>\n",
       "      <th></th>\n",
       "      <th></th>\n",
       "      <th></th>\n",
       "      <th></th>\n",
       "      <th></th>\n",
       "      <th></th>\n",
       "      <th></th>\n",
       "    </tr>\n",
       "  </thead>\n",
       "  <tbody>\n",
       "    <tr>\n",
       "      <th>E01005268</th>\n",
       "      <td>Manchester</td>\n",
       "      <td>40.40783</td>\n",
       "      <td>0.054014</td>\n",
       "      <td>0.976861</td>\n",
       "      <td>0.509054</td>\n",
       "      <td>0.026157</td>\n",
       "      <td>0.001006</td>\n",
       "      <td>0.280684</td>\n",
       "      <td>0.285152</td>\n",
       "      <td>0.884539</td>\n",
       "      <td>3649.224138</td>\n",
       "      <td>14515.64286</td>\n",
       "    </tr>\n",
       "    <tr>\n",
       "      <th>E01033656</th>\n",
       "      <td>Manchester</td>\n",
       "      <td>22.29914</td>\n",
       "      <td>0.004585</td>\n",
       "      <td>0.909330</td>\n",
       "      <td>0.371879</td>\n",
       "      <td>0.003942</td>\n",
       "      <td>0.268068</td>\n",
       "      <td>0.674113</td>\n",
       "      <td>0.361815</td>\n",
       "      <td>0.593410</td>\n",
       "      <td>6636.307692</td>\n",
       "      <td>17387.00000</td>\n",
       "    </tr>\n",
       "    <tr>\n",
       "      <th>E01005184</th>\n",
       "      <td>Manchester</td>\n",
       "      <td>29.31636</td>\n",
       "      <td>0.038190</td>\n",
       "      <td>0.966624</td>\n",
       "      <td>0.441592</td>\n",
       "      <td>0.048780</td>\n",
       "      <td>0.219512</td>\n",
       "      <td>0.410783</td>\n",
       "      <td>0.159142</td>\n",
       "      <td>0.672324</td>\n",
       "      <td>3728.692308</td>\n",
       "      <td>12046.02857</td>\n",
       "    </tr>\n",
       "    <tr>\n",
       "      <th>E01005298</th>\n",
       "      <td>Manchester</td>\n",
       "      <td>30.76403</td>\n",
       "      <td>0.052861</td>\n",
       "      <td>0.973479</td>\n",
       "      <td>0.483619</td>\n",
       "      <td>0.060842</td>\n",
       "      <td>0.015601</td>\n",
       "      <td>0.260530</td>\n",
       "      <td>0.064515</td>\n",
       "      <td>0.407629</td>\n",
       "      <td>3827.666667</td>\n",
       "      <td>15935.56000</td>\n",
       "    </tr>\n",
       "    <tr>\n",
       "      <th>E01005300</th>\n",
       "      <td>Manchester</td>\n",
       "      <td>36.61435</td>\n",
       "      <td>0.065343</td>\n",
       "      <td>0.977551</td>\n",
       "      <td>0.404082</td>\n",
       "      <td>0.057143</td>\n",
       "      <td>0.004082</td>\n",
       "      <td>0.159184</td>\n",
       "      <td>0.060058</td>\n",
       "      <td>0.357463</td>\n",
       "      <td>4164.428571</td>\n",
       "      <td>19614.64286</td>\n",
       "    </tr>\n",
       "  </tbody>\n",
       "</table>\n",
       "</div>"
      ],
      "text/plain": [
       "               local_auth  age_mean  badhealth  centheat    nodepr   depr_3+  \\\n",
       "geo_code_lsoa                                                                  \n",
       "E01005268      Manchester  40.40783   0.054014  0.976861  0.509054  0.026157   \n",
       "E01033656      Manchester  22.29914   0.004585  0.909330  0.371879  0.003942   \n",
       "E01005184      Manchester  29.31636   0.038190  0.966624  0.441592  0.048780   \n",
       "E01005298      Manchester  30.76403   0.052861  0.973479  0.483619  0.060842   \n",
       "E01005300      Manchester  36.61435   0.065343  0.977551  0.404082  0.057143   \n",
       "\n",
       "               studenthhold    nocars   eth_hhi     F166x   mean_elect  \\\n",
       "geo_code_lsoa                                                            \n",
       "E01005268          0.001006  0.280684  0.285152  0.884539  3649.224138   \n",
       "E01033656          0.268068  0.674113  0.361815  0.593410  6636.307692   \n",
       "E01005184          0.219512  0.410783  0.159142  0.672324  3728.692308   \n",
       "E01005298          0.015601  0.260530  0.064515  0.407629  3827.666667   \n",
       "E01005300          0.004082  0.159184  0.060058  0.357463  4164.428571   \n",
       "\n",
       "                  mean_gas  \n",
       "geo_code_lsoa               \n",
       "E01005268      14515.64286  \n",
       "E01033656      17387.00000  \n",
       "E01005184      12046.02857  \n",
       "E01005298      15935.56000  \n",
       "E01005300      19614.64286  "
      ]
     },
     "execution_count": 22,
     "metadata": {},
     "output_type": "execute_result"
    }
   ],
   "source": [
    "all_data.head()"
   ]
  },
  {
   "cell_type": "code",
   "execution_count": null,
   "metadata": {},
   "outputs": [],
   "source": [
    "'''\n",
    "all_data['centre_dummy'] = np.nan\n",
    "all_data['centre'] = 'unknown'\n",
    "\n",
    "for i in range(len(all_data)):\n",
    "    if all_data['local_auth'][i] == 'Manchester':\n",
    "        all_data['centre_dummy'][i] = int(1)\n",
    "        all_data['centre'][i] = 'Yes'\n",
    "    else:\n",
    "        all_data['centre_dummy'][i] = int(0)\n",
    "        all_data['centre'][i] = 'No'\n",
    "'''"
   ]
  },
  {
   "cell_type": "code",
   "execution_count": null,
   "metadata": {},
   "outputs": [],
   "source": [
    "'''all_data['depr_3+_dummy'] = np.nan\n",
    "all_data['depr_3+_cat'] = 'unknown'\n",
    "\n",
    "for i in range(len(all_data)):\n",
    "    if all_data['depr_3+'][i] >= 0.1:\n",
    "        all_data['depr_3+_dummy'][i] = int(1)\n",
    "        all_data['depr_3+_cat'][i] = 'None'\n",
    "    else:\n",
    "        all_data['depr_3+_dummy'][i] = int(0)\n",
    "        all_data['depr_3+_cat'][i] = '3+'\n",
    "'''"
   ]
  },
  {
   "cell_type": "code",
   "execution_count": null,
   "metadata": {},
   "outputs": [],
   "source": [
    "'''\n",
    "(q1, q2, q3) = all_data['nodepr'].quantile([0.25,0.5,0.75])\n",
    "\n",
    "all_data['nodepr_quar'] = 'unknown'\n",
    "\n",
    "for i in range(len(all_data)):\n",
    "    all_data['nodepr_quar'][i] = 'Q4'\n",
    "    \n",
    "    if all_data['nodepr'][i] <= q3:\n",
    "        all_data['nodepr_quar'][i] = 'Q3'\n",
    "        \n",
    "    if all_data['nodepr'][i] <= q2:\n",
    "        all_data['nodepr_quar'][i] = 'Q2'\n",
    "    \n",
    "    if all_data['nodepr'][i] <= q1:\n",
    "        all_data['nodepr_quar'][i] = 'Q1'\n",
    "'''        "
   ]
  },
  {
   "cell_type": "code",
   "execution_count": 39,
   "metadata": {},
   "outputs": [
    {
     "name": "stderr",
     "output_type": "stream",
     "text": [
      "C:\\Users\\gylk\\AppData\\Local\\Continuum\\anaconda3\\envs\\gds\\lib\\site-packages\\ipykernel_launcher.py:7: SettingWithCopyWarning: \n",
      "A value is trying to be set on a copy of a slice from a DataFrame\n",
      "\n",
      "See the caveats in the documentation: http://pandas.pydata.org/pandas-docs/stable/indexing.html#indexing-view-versus-copy\n",
      "  import sys\n",
      "C:\\Users\\gylk\\AppData\\Local\\Continuum\\anaconda3\\envs\\gds\\lib\\site-packages\\ipykernel_launcher.py:5: SettingWithCopyWarning: \n",
      "A value is trying to be set on a copy of a slice from a DataFrame\n",
      "\n",
      "See the caveats in the documentation: http://pandas.pydata.org/pandas-docs/stable/indexing.html#indexing-view-versus-copy\n",
      "  \"\"\"\n"
     ]
    }
   ],
   "source": [
    "all_data['nodepr_med'] = 'unknown'\n",
    "\n",
    "for i in range(len(all_data)):\n",
    "    if all_data['nodepr'][i] <= all_data['nodepr'].median():\n",
    "        all_data['nodepr_med'][i] = 'below_med'\n",
    "    else:\n",
    "        all_data['nodepr_med'][i] = 'above_med'   "
   ]
  },
  {
   "cell_type": "code",
   "execution_count": null,
   "metadata": {},
   "outputs": [],
   "source": [
    "'''\n",
    "(t1, t2) = all_data['nodepr'].quantile([0.33, 0.67])\n",
    "\n",
    "all_data['nodepr_thir'] = 'unknown'\n",
    "\n",
    "for i in range(len(all_data)):\n",
    "    all_data['nodepr_thir'][i] = 'T3'\n",
    "        \n",
    "    if all_data['nodepr'][i] <= t2:\n",
    "        all_data['nodepr_thir'][i] = 'T2'\n",
    "    \n",
    "    if all_data['nodepr'][i] <= t1:\n",
    "        all_data['nodepr_thir'][i] = 'T1'\n",
    "'''"
   ]
  },
  {
   "cell_type": "code",
   "execution_count": null,
   "metadata": {},
   "outputs": [],
   "source": [
    "'''\n",
    "(q1, q2, q3) = all_data['nocars'].quantile([0.25,0.5,0.75])\n",
    "\n",
    "all_data['nocars_quar'] = 'unknown'\n",
    "\n",
    "for i in range(len(all_data)):\n",
    "    all_data['nocars_quar'][i] = 'Q4'\n",
    "    \n",
    "    if all_data['nocars'][i] <= q3:\n",
    "        all_data['nocars_quar'][i] = 'Q3'\n",
    "        \n",
    "    if all_data['nocars'][i] <= q2:\n",
    "        all_data['nocars_quar'][i] = 'Q2'\n",
    "    \n",
    "    if all_data['nocars'][i] <= q1:\n",
    "        all_data['nocars_quar'][i] = 'Q1'\n",
    "'''"
   ]
  },
  {
   "cell_type": "code",
   "execution_count": 40,
   "metadata": {},
   "outputs": [
    {
     "name": "stderr",
     "output_type": "stream",
     "text": [
      "C:\\Users\\gylk\\AppData\\Local\\Continuum\\anaconda3\\envs\\gds\\lib\\site-packages\\ipykernel_launcher.py:7: SettingWithCopyWarning: \n",
      "A value is trying to be set on a copy of a slice from a DataFrame\n",
      "\n",
      "See the caveats in the documentation: http://pandas.pydata.org/pandas-docs/stable/indexing.html#indexing-view-versus-copy\n",
      "  import sys\n",
      "C:\\Users\\gylk\\AppData\\Local\\Continuum\\anaconda3\\envs\\gds\\lib\\site-packages\\ipykernel_launcher.py:5: SettingWithCopyWarning: \n",
      "A value is trying to be set on a copy of a slice from a DataFrame\n",
      "\n",
      "See the caveats in the documentation: http://pandas.pydata.org/pandas-docs/stable/indexing.html#indexing-view-versus-copy\n",
      "  \"\"\"\n"
     ]
    }
   ],
   "source": [
    "all_data['nocars_med'] = 'unknown'\n",
    "\n",
    "for i in range(len(all_data)):\n",
    "    if all_data['nocars'][i] <= all_data['nocars'].median():\n",
    "        all_data['nocars_med'][i] = 'below_med'\n",
    "    else:\n",
    "        all_data['nocars_med'][i] = 'above_med'"
   ]
  },
  {
   "cell_type": "code",
   "execution_count": 43,
   "metadata": {},
   "outputs": [
    {
     "name": "stderr",
     "output_type": "stream",
     "text": [
      "C:\\Users\\gylk\\AppData\\Local\\Continuum\\anaconda3\\envs\\gds\\lib\\site-packages\\ipykernel_launcher.py:6: SettingWithCopyWarning: \n",
      "A value is trying to be set on a copy of a slice from a DataFrame\n",
      "\n",
      "See the caveats in the documentation: http://pandas.pydata.org/pandas-docs/stable/indexing.html#indexing-view-versus-copy\n",
      "  \n",
      "C:\\Users\\gylk\\AppData\\Local\\Continuum\\anaconda3\\envs\\gds\\lib\\site-packages\\ipykernel_launcher.py:9: SettingWithCopyWarning: \n",
      "A value is trying to be set on a copy of a slice from a DataFrame\n",
      "\n",
      "See the caveats in the documentation: http://pandas.pydata.org/pandas-docs/stable/indexing.html#indexing-view-versus-copy\n",
      "  if __name__ == '__main__':\n",
      "C:\\Users\\gylk\\AppData\\Local\\Continuum\\anaconda3\\envs\\gds\\lib\\site-packages\\ipykernel_launcher.py:12: SettingWithCopyWarning: \n",
      "A value is trying to be set on a copy of a slice from a DataFrame\n",
      "\n",
      "See the caveats in the documentation: http://pandas.pydata.org/pandas-docs/stable/indexing.html#indexing-view-versus-copy\n",
      "  if sys.path[0] == '':\n",
      "C:\\Users\\gylk\\AppData\\Local\\Continuum\\anaconda3\\envs\\gds\\lib\\site-packages\\ipykernel_launcher.py:15: SettingWithCopyWarning: \n",
      "A value is trying to be set on a copy of a slice from a DataFrame\n",
      "\n",
      "See the caveats in the documentation: http://pandas.pydata.org/pandas-docs/stable/indexing.html#indexing-view-versus-copy\n",
      "  from ipykernel import kernelapp as app\n"
     ]
    }
   ],
   "source": [
    "(q1, q2, q3) = all_data['age_median'].quantile([0.25,0.5,0.75])\n",
    "\n",
    "all_data['median_age_quar'] = 'unknown'\n",
    "\n",
    "for i in range(len(all_data)):\n",
    "    all_data['median_age_quar'][i] = 'Q4'\n",
    "    \n",
    "    if all_data['age_median'][i] <= q3:\n",
    "        all_data['median_age_quar'][i] = 'Q3'\n",
    "        \n",
    "    if all_data['age_median'][i] <= q2:\n",
    "        all_data['median_age_quar'][i] = 'Q2'\n",
    "    \n",
    "    if all_data['age_median'][i] <= q1:\n",
    "        all_data['median_age_quar'][i] = 'Q1'"
   ]
  },
  {
   "cell_type": "code",
   "execution_count": 46,
   "metadata": {},
   "outputs": [
    {
     "name": "stderr",
     "output_type": "stream",
     "text": [
      "C:\\Users\\gylk\\AppData\\Local\\Continuum\\anaconda3\\envs\\gds\\lib\\site-packages\\ipykernel_launcher.py:5: SettingWithCopyWarning: \n",
      "A value is trying to be set on a copy of a slice from a DataFrame\n",
      "\n",
      "See the caveats in the documentation: http://pandas.pydata.org/pandas-docs/stable/indexing.html#indexing-view-versus-copy\n",
      "  \"\"\"\n",
      "C:\\Users\\gylk\\AppData\\Local\\Continuum\\anaconda3\\envs\\gds\\lib\\site-packages\\ipykernel_launcher.py:8: SettingWithCopyWarning: \n",
      "A value is trying to be set on a copy of a slice from a DataFrame\n",
      "\n",
      "See the caveats in the documentation: http://pandas.pydata.org/pandas-docs/stable/indexing.html#indexing-view-versus-copy\n",
      "  \n"
     ]
    }
   ],
   "source": [
    "all_data['median_age_med'] = 'unknown'\n",
    "\n",
    "for i in range(len(all_data)):\n",
    "    if all_data['age_median'][i] <= all_data['age_median'].median():\n",
    "        all_data['median_age_med'][i] = 'below'\n",
    "        \n",
    "    else:\n",
    "        all_data['median_age_med'][i] = 'above'"
   ]
  },
  {
   "cell_type": "code",
   "execution_count": 47,
   "metadata": {},
   "outputs": [
    {
     "data": {
      "text/html": [
       "<div>\n",
       "<style scoped>\n",
       "    .dataframe tbody tr th:only-of-type {\n",
       "        vertical-align: middle;\n",
       "    }\n",
       "\n",
       "    .dataframe tbody tr th {\n",
       "        vertical-align: top;\n",
       "    }\n",
       "\n",
       "    .dataframe thead th {\n",
       "        text-align: right;\n",
       "    }\n",
       "</style>\n",
       "<table border=\"1\" class=\"dataframe\">\n",
       "  <thead>\n",
       "    <tr style=\"text-align: right;\">\n",
       "      <th></th>\n",
       "      <th>local_auth</th>\n",
       "      <th>age_mean</th>\n",
       "      <th>age_median</th>\n",
       "      <th>badhealth</th>\n",
       "      <th>centheat</th>\n",
       "      <th>nodepr</th>\n",
       "      <th>depr_3+</th>\n",
       "      <th>studenthhold</th>\n",
       "      <th>nocars</th>\n",
       "      <th>eth_hhi</th>\n",
       "      <th>ethwhite</th>\n",
       "      <th>nodepr_med</th>\n",
       "      <th>nocars_med</th>\n",
       "      <th>median_age_quar</th>\n",
       "      <th>median_age_med</th>\n",
       "    </tr>\n",
       "    <tr>\n",
       "      <th>geo_code_lsoa</th>\n",
       "      <th></th>\n",
       "      <th></th>\n",
       "      <th></th>\n",
       "      <th></th>\n",
       "      <th></th>\n",
       "      <th></th>\n",
       "      <th></th>\n",
       "      <th></th>\n",
       "      <th></th>\n",
       "      <th></th>\n",
       "      <th></th>\n",
       "      <th></th>\n",
       "      <th></th>\n",
       "      <th></th>\n",
       "      <th></th>\n",
       "    </tr>\n",
       "  </thead>\n",
       "  <tbody>\n",
       "    <tr>\n",
       "      <th>E01005268</th>\n",
       "      <td>Manchester</td>\n",
       "      <td>40.40783</td>\n",
       "      <td>36.0</td>\n",
       "      <td>0.054014</td>\n",
       "      <td>0.976861</td>\n",
       "      <td>0.509054</td>\n",
       "      <td>0.026157</td>\n",
       "      <td>0.001006</td>\n",
       "      <td>0.280684</td>\n",
       "      <td>0.285152</td>\n",
       "      <td>0.884539</td>\n",
       "      <td>above_med</td>\n",
       "      <td>above_med</td>\n",
       "      <td>below</td>\n",
       "      <td>below</td>\n",
       "    </tr>\n",
       "    <tr>\n",
       "      <th>E01033656</th>\n",
       "      <td>Manchester</td>\n",
       "      <td>22.29914</td>\n",
       "      <td>21.0</td>\n",
       "      <td>0.004585</td>\n",
       "      <td>0.909330</td>\n",
       "      <td>0.371879</td>\n",
       "      <td>0.003942</td>\n",
       "      <td>0.268068</td>\n",
       "      <td>0.674113</td>\n",
       "      <td>0.361815</td>\n",
       "      <td>0.593410</td>\n",
       "      <td>below_med</td>\n",
       "      <td>above_med</td>\n",
       "      <td>below</td>\n",
       "      <td>below</td>\n",
       "    </tr>\n",
       "    <tr>\n",
       "      <th>E01005184</th>\n",
       "      <td>Manchester</td>\n",
       "      <td>29.31636</td>\n",
       "      <td>22.0</td>\n",
       "      <td>0.038190</td>\n",
       "      <td>0.966624</td>\n",
       "      <td>0.441592</td>\n",
       "      <td>0.048780</td>\n",
       "      <td>0.219512</td>\n",
       "      <td>0.410783</td>\n",
       "      <td>0.159142</td>\n",
       "      <td>0.672324</td>\n",
       "      <td>above_med</td>\n",
       "      <td>above_med</td>\n",
       "      <td>below</td>\n",
       "      <td>below</td>\n",
       "    </tr>\n",
       "    <tr>\n",
       "      <th>E01005298</th>\n",
       "      <td>Manchester</td>\n",
       "      <td>30.76403</td>\n",
       "      <td>30.0</td>\n",
       "      <td>0.052861</td>\n",
       "      <td>0.973479</td>\n",
       "      <td>0.483619</td>\n",
       "      <td>0.060842</td>\n",
       "      <td>0.015601</td>\n",
       "      <td>0.260530</td>\n",
       "      <td>0.064515</td>\n",
       "      <td>0.407629</td>\n",
       "      <td>above_med</td>\n",
       "      <td>below_med</td>\n",
       "      <td>below</td>\n",
       "      <td>below</td>\n",
       "    </tr>\n",
       "    <tr>\n",
       "      <th>E01005300</th>\n",
       "      <td>Manchester</td>\n",
       "      <td>36.61435</td>\n",
       "      <td>34.0</td>\n",
       "      <td>0.065343</td>\n",
       "      <td>0.977551</td>\n",
       "      <td>0.404082</td>\n",
       "      <td>0.057143</td>\n",
       "      <td>0.004082</td>\n",
       "      <td>0.159184</td>\n",
       "      <td>0.060058</td>\n",
       "      <td>0.357463</td>\n",
       "      <td>above_med</td>\n",
       "      <td>below_med</td>\n",
       "      <td>below</td>\n",
       "      <td>below</td>\n",
       "    </tr>\n",
       "  </tbody>\n",
       "</table>\n",
       "</div>"
      ],
      "text/plain": [
       "               local_auth  age_mean  age_median  badhealth  centheat  \\\n",
       "geo_code_lsoa                                                          \n",
       "E01005268      Manchester  40.40783        36.0   0.054014  0.976861   \n",
       "E01033656      Manchester  22.29914        21.0   0.004585  0.909330   \n",
       "E01005184      Manchester  29.31636        22.0   0.038190  0.966624   \n",
       "E01005298      Manchester  30.76403        30.0   0.052861  0.973479   \n",
       "E01005300      Manchester  36.61435        34.0   0.065343  0.977551   \n",
       "\n",
       "                 nodepr   depr_3+  studenthhold    nocars   eth_hhi  ethwhite  \\\n",
       "geo_code_lsoa                                                                   \n",
       "E01005268      0.509054  0.026157      0.001006  0.280684  0.285152  0.884539   \n",
       "E01033656      0.371879  0.003942      0.268068  0.674113  0.361815  0.593410   \n",
       "E01005184      0.441592  0.048780      0.219512  0.410783  0.159142  0.672324   \n",
       "E01005298      0.483619  0.060842      0.015601  0.260530  0.064515  0.407629   \n",
       "E01005300      0.404082  0.057143      0.004082  0.159184  0.060058  0.357463   \n",
       "\n",
       "              nodepr_med nocars_med median_age_quar median_age_med  \n",
       "geo_code_lsoa                                                       \n",
       "E01005268      above_med  above_med           below          below  \n",
       "E01033656      below_med  above_med           below          below  \n",
       "E01005184      above_med  above_med           below          below  \n",
       "E01005298      above_med  below_med           below          below  \n",
       "E01005300      above_med  below_med           below          below  "
      ]
     },
     "execution_count": 47,
     "metadata": {},
     "output_type": "execute_result"
    }
   ],
   "source": [
    "all_data.head()"
   ]
  },
  {
   "cell_type": "code",
   "execution_count": 48,
   "metadata": {},
   "outputs": [],
   "source": [
    "all_data.to_csv('data/manchester_data.csv')"
   ]
  }
 ],
 "metadata": {
  "kernelspec": {
   "display_name": "Python 3",
   "language": "python",
   "name": "python3"
  },
  "language_info": {
   "codemirror_mode": {
    "name": "ipython",
    "version": 3
   },
   "file_extension": ".py",
   "mimetype": "text/x-python",
   "name": "python",
   "nbconvert_exporter": "python",
   "pygments_lexer": "ipython3",
   "version": "3.6.6"
  }
 },
 "nbformat": 4,
 "nbformat_minor": 2
}
