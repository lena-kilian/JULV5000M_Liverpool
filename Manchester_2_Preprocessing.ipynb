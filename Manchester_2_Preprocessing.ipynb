{
 "cells": [
  {
   "cell_type": "code",
   "execution_count": 2,
   "metadata": {},
   "outputs": [],
   "source": [
    "import pandas as pd\n",
    "import numpy as np\n",
    "import matplotlib.pyplot as plt\n",
    "import seaborn as sns\n",
    "from sklearn import preprocessing"
   ]
  },
  {
   "cell_type": "code",
   "execution_count": 23,
   "metadata": {},
   "outputs": [],
   "source": [
    "data_age = pd.read_csv('data/cleaned_age.csv')\n",
    "data_health = pd.read_csv('data/cleaned_health.csv')\n",
    "data_heat = pd.read_csv('data/cleaned_heat.csv')\n",
    "data_depr = pd.read_csv('data/cleaned_depr.csv')\n",
    "data_hhold = pd.read_csv('data/cleaned_hhold.csv')\n",
    "data_ethgrp = pd.read_csv('data/cleaned_ethgrp.csv')\n",
    "data_cars = pd.read_csv('data/cleaned_cars.csv')\n",
    "\n",
    "meta_data = pd.read_csv('data/meta_all.csv')\n",
    "\n",
    "lsoa_data = pd.read_csv('manchester_data_la.csv', sep = ',')"
   ]
  },
  {
   "cell_type": "code",
   "execution_count": 4,
   "metadata": {},
   "outputs": [
    {
     "data": {
      "text/html": [
       "<div>\n",
       "<style scoped>\n",
       "    .dataframe tbody tr th:only-of-type {\n",
       "        vertical-align: middle;\n",
       "    }\n",
       "\n",
       "    .dataframe tbody tr th {\n",
       "        vertical-align: top;\n",
       "    }\n",
       "\n",
       "    .dataframe thead th {\n",
       "        text-align: right;\n",
       "    }\n",
       "</style>\n",
       "<table border=\"1\" class=\"dataframe\">\n",
       "  <thead>\n",
       "    <tr style=\"text-align: right;\">\n",
       "      <th></th>\n",
       "      <th>GEO_CODE</th>\n",
       "      <th>F997</th>\n",
       "      <th>F998</th>\n",
       "      <th>F999</th>\n",
       "      <th>F1000</th>\n",
       "      <th>F1001</th>\n",
       "    </tr>\n",
       "  </thead>\n",
       "  <tbody>\n",
       "    <tr>\n",
       "      <th>0</th>\n",
       "      <td>E01004766</td>\n",
       "      <td>279</td>\n",
       "      <td>279</td>\n",
       "      <td>196</td>\n",
       "      <td>39</td>\n",
       "      <td>2</td>\n",
       "    </tr>\n",
       "    <tr>\n",
       "      <th>1</th>\n",
       "      <td>E01004767</td>\n",
       "      <td>343</td>\n",
       "      <td>255</td>\n",
       "      <td>134</td>\n",
       "      <td>33</td>\n",
       "      <td>3</td>\n",
       "    </tr>\n",
       "    <tr>\n",
       "      <th>2</th>\n",
       "      <td>E01004768</td>\n",
       "      <td>388</td>\n",
       "      <td>166</td>\n",
       "      <td>46</td>\n",
       "      <td>5</td>\n",
       "      <td>0</td>\n",
       "    </tr>\n",
       "    <tr>\n",
       "      <th>3</th>\n",
       "      <td>E01004769</td>\n",
       "      <td>380</td>\n",
       "      <td>210</td>\n",
       "      <td>84</td>\n",
       "      <td>10</td>\n",
       "      <td>1</td>\n",
       "    </tr>\n",
       "    <tr>\n",
       "      <th>4</th>\n",
       "      <td>E01004770</td>\n",
       "      <td>279</td>\n",
       "      <td>217</td>\n",
       "      <td>106</td>\n",
       "      <td>13</td>\n",
       "      <td>1</td>\n",
       "    </tr>\n",
       "  </tbody>\n",
       "</table>\n",
       "</div>"
      ],
      "text/plain": [
       "    GEO_CODE  F997  F998  F999  F1000  F1001\n",
       "0  E01004766   279   279   196     39      2\n",
       "1  E01004767   343   255   134     33      3\n",
       "2  E01004768   388   166    46      5      0\n",
       "3  E01004769   380   210    84     10      1\n",
       "4  E01004770   279   217   106     13      1"
      ]
     },
     "execution_count": 4,
     "metadata": {},
     "output_type": "execute_result"
    }
   ],
   "source": [
    "data_depr.head()"
   ]
  },
  {
   "cell_type": "code",
   "execution_count": 5,
   "metadata": {},
   "outputs": [],
   "source": [
    "def prop_of_tot(old_data):\n",
    "    \n",
    "    data = old_data.set_index('GEO_CODE').astype(int)\n",
    "    data['sum'] = data.sum(axis = 1, skipna = all)\n",
    "    \n",
    "    new_df = pd.DataFrame(index = data.index, columns = data.columns)\n",
    "    for i in range(len(data)):\n",
    "        for j in range(int(len(data.columns) - 1)):\n",
    "            new_df.iloc[i][j] = (data.iloc[i][j] / data.iloc[i][int(len(data.columns) - 1)])\n",
    "    \n",
    "    new_df = new_df.dropna(axis = 1)\n",
    "\n",
    "    return(new_df)"
   ]
  },
  {
   "cell_type": "code",
   "execution_count": 6,
   "metadata": {},
   "outputs": [],
   "source": [
    "prop_health = prop_of_tot(data_health)\n",
    "prop_heat = prop_of_tot(data_heat)\n",
    "prop_depr = prop_of_tot(data_depr)\n",
    "prop_cars = prop_of_tot(data_cars)"
   ]
  },
  {
   "cell_type": "code",
   "execution_count": 7,
   "metadata": {},
   "outputs": [],
   "source": [
    "data_ethgrp = data_ethgrp.set_index('GEO_CODE')\n",
    "\n",
    "for i in range(len(data_ethgrp)):\n",
    "    for j in range(len(data_ethgrp.columns)):\n",
    "        data_ethgrp.iloc[i][j] = data_ethgrp.iloc[i][j] ** 2\n",
    "\n",
    "data_ethgrp['hhi'] = data_ethgrp.sum(axis = 1, skipna = all)"
   ]
  },
  {
   "cell_type": "code",
   "execution_count": 8,
   "metadata": {},
   "outputs": [],
   "source": [
    "data_ethgrp = data_ethgrp[['hhi']]"
   ]
  },
  {
   "cell_type": "code",
   "execution_count": 9,
   "metadata": {},
   "outputs": [
    {
     "name": "stderr",
     "output_type": "stream",
     "text": [
      "C:\\Users\\gylk\\AppData\\Local\\Continuum\\anaconda3\\envs\\gds\\lib\\site-packages\\sklearn\\utils\\validation.py:595: DataConversionWarning: Data with input dtype int64 was converted to float64 by MinMaxScaler.\n",
      "  warnings.warn(msg, DataConversionWarning)\n"
     ]
    }
   ],
   "source": [
    "# normalise hhi --> turns to array\n",
    "min_max_scaler = preprocessing.MinMaxScaler()\n",
    "x_scaled = min_max_scaler.fit_transform(data_ethgrp.values)"
   ]
  },
  {
   "cell_type": "code",
   "execution_count": 10,
   "metadata": {},
   "outputs": [],
   "source": [
    "hhi_list = []\n",
    "\n",
    "for i in range(len(x_scaled)):\n",
    "    hhi_list.append(float(x_scaled[i]))"
   ]
  },
  {
   "cell_type": "code",
   "execution_count": 11,
   "metadata": {},
   "outputs": [],
   "source": [
    "data_ethgrp['hhi_norm'] = hhi_list"
   ]
  },
  {
   "cell_type": "code",
   "execution_count": 12,
   "metadata": {},
   "outputs": [],
   "source": [
    "data_hhold = data_hhold.set_index('GEO_CODE')\n",
    "data_age = data_age.set_index('GEO_CODE')"
   ]
  },
  {
   "cell_type": "code",
   "execution_count": 13,
   "metadata": {},
   "outputs": [],
   "source": [
    "prop_hhold = pd.DataFrame(index = data_hhold.index, columns = data_hhold.columns)\n",
    "\n",
    "for i in range(len(data_hhold)):\n",
    "    for j in range(1, len(data_hhold.columns)):\n",
    "        prop_hhold.iloc[i][j] = (data_hhold.iloc[i][j] / data_hhold.iloc[i][0])\n",
    "        \n",
    "prop_hhold = prop_hhold.dropna(axis = 1)"
   ]
  },
  {
   "cell_type": "code",
   "execution_count": 19,
   "metadata": {},
   "outputs": [],
   "source": [
    "# join data\n",
    "\n",
    "man_data = prop_health.join(prop_heat).join(prop_depr).join(prop_cars).join(prop_hhold).join(data_age).join(data_ethgrp)\n",
    "\n",
    "tokeep = ['F184', 'F1782', 'F2345', 'F997', 'F1838', 'F991', 'hhi_norm'] \n",
    "\n",
    "man_data = (man_data[tokeep].rename(columns = {'F184':'age_mean',\n",
    "                                               'F1782':'badhealth',\n",
    "                                               'F2345':'centheat',\n",
    "                                               'F997':'nodepr',\n",
    "                                               'F1838':'studenthhold',\n",
    "                                               'F991':'nocars',\n",
    "                                               'hhi_norm':'eth_hhi'})\\\n",
    "           .astype(np.float))"
   ]
  },
  {
   "cell_type": "code",
   "execution_count": 24,
   "metadata": {},
   "outputs": [],
   "source": [
    "lsoa_data = lsoa_data.set_index('geo_code_lsoa')"
   ]
  },
  {
   "cell_type": "code",
   "execution_count": 25,
   "metadata": {},
   "outputs": [],
   "source": [
    "all_data = lsoa_data[['local_auth']].join(man_data)"
   ]
  },
  {
   "cell_type": "code",
   "execution_count": 26,
   "metadata": {},
   "outputs": [
    {
     "data": {
      "text/html": [
       "<div>\n",
       "<style scoped>\n",
       "    .dataframe tbody tr th:only-of-type {\n",
       "        vertical-align: middle;\n",
       "    }\n",
       "\n",
       "    .dataframe tbody tr th {\n",
       "        vertical-align: top;\n",
       "    }\n",
       "\n",
       "    .dataframe thead th {\n",
       "        text-align: right;\n",
       "    }\n",
       "</style>\n",
       "<table border=\"1\" class=\"dataframe\">\n",
       "  <thead>\n",
       "    <tr style=\"text-align: right;\">\n",
       "      <th></th>\n",
       "      <th>local_auth</th>\n",
       "      <th>age_mean</th>\n",
       "      <th>badhealth</th>\n",
       "      <th>centheat</th>\n",
       "      <th>nodepr</th>\n",
       "      <th>studenthhold</th>\n",
       "      <th>nocars</th>\n",
       "      <th>eth_hhi</th>\n",
       "    </tr>\n",
       "    <tr>\n",
       "      <th>geo_code_lsoa</th>\n",
       "      <th></th>\n",
       "      <th></th>\n",
       "      <th></th>\n",
       "      <th></th>\n",
       "      <th></th>\n",
       "      <th></th>\n",
       "      <th></th>\n",
       "      <th></th>\n",
       "    </tr>\n",
       "  </thead>\n",
       "  <tbody>\n",
       "    <tr>\n",
       "      <th>E01005268</th>\n",
       "      <td>Manchester</td>\n",
       "      <td>40.40783</td>\n",
       "      <td>0.042121</td>\n",
       "      <td>0.976861</td>\n",
       "      <td>0.509054</td>\n",
       "      <td>0.001006</td>\n",
       "      <td>0.280684</td>\n",
       "      <td>0.285152</td>\n",
       "    </tr>\n",
       "    <tr>\n",
       "      <th>E01033656</th>\n",
       "      <td>Manchester</td>\n",
       "      <td>22.29914</td>\n",
       "      <td>0.003438</td>\n",
       "      <td>0.909330</td>\n",
       "      <td>0.371879</td>\n",
       "      <td>0.268068</td>\n",
       "      <td>0.674113</td>\n",
       "      <td>0.361815</td>\n",
       "    </tr>\n",
       "    <tr>\n",
       "      <th>E01005184</th>\n",
       "      <td>Manchester</td>\n",
       "      <td>29.31636</td>\n",
       "      <td>0.031117</td>\n",
       "      <td>0.966624</td>\n",
       "      <td>0.441592</td>\n",
       "      <td>0.219512</td>\n",
       "      <td>0.410783</td>\n",
       "      <td>0.159142</td>\n",
       "    </tr>\n",
       "    <tr>\n",
       "      <th>E01005298</th>\n",
       "      <td>Manchester</td>\n",
       "      <td>30.76403</td>\n",
       "      <td>0.041417</td>\n",
       "      <td>0.973479</td>\n",
       "      <td>0.483619</td>\n",
       "      <td>0.015601</td>\n",
       "      <td>0.260530</td>\n",
       "      <td>0.064515</td>\n",
       "    </tr>\n",
       "    <tr>\n",
       "      <th>E01005300</th>\n",
       "      <td>Manchester</td>\n",
       "      <td>36.61435</td>\n",
       "      <td>0.051249</td>\n",
       "      <td>0.977551</td>\n",
       "      <td>0.404082</td>\n",
       "      <td>0.004082</td>\n",
       "      <td>0.159184</td>\n",
       "      <td>0.060058</td>\n",
       "    </tr>\n",
       "  </tbody>\n",
       "</table>\n",
       "</div>"
      ],
      "text/plain": [
       "               local_auth  age_mean  badhealth  centheat    nodepr  \\\n",
       "geo_code_lsoa                                                        \n",
       "E01005268      Manchester  40.40783   0.042121  0.976861  0.509054   \n",
       "E01033656      Manchester  22.29914   0.003438  0.909330  0.371879   \n",
       "E01005184      Manchester  29.31636   0.031117  0.966624  0.441592   \n",
       "E01005298      Manchester  30.76403   0.041417  0.973479  0.483619   \n",
       "E01005300      Manchester  36.61435   0.051249  0.977551  0.404082   \n",
       "\n",
       "               studenthhold    nocars   eth_hhi  \n",
       "geo_code_lsoa                                    \n",
       "E01005268          0.001006  0.280684  0.285152  \n",
       "E01033656          0.268068  0.674113  0.361815  \n",
       "E01005184          0.219512  0.410783  0.159142  \n",
       "E01005298          0.015601  0.260530  0.064515  \n",
       "E01005300          0.004082  0.159184  0.060058  "
      ]
     },
     "execution_count": 26,
     "metadata": {},
     "output_type": "execute_result"
    }
   ],
   "source": [
    "all_data.head()"
   ]
  },
  {
   "cell_type": "code",
   "execution_count": 28,
   "metadata": {},
   "outputs": [
    {
     "name": "stderr",
     "output_type": "stream",
     "text": [
      "C:\\Users\\gylk\\AppData\\Local\\Continuum\\anaconda3\\envs\\gds\\lib\\site-packages\\ipykernel_launcher.py:6: SettingWithCopyWarning: \n",
      "A value is trying to be set on a copy of a slice from a DataFrame\n",
      "\n",
      "See the caveats in the documentation: http://pandas.pydata.org/pandas-docs/stable/indexing.html#indexing-view-versus-copy\n",
      "  \n",
      "C:\\Users\\gylk\\AppData\\Local\\Continuum\\anaconda3\\envs\\gds\\lib\\site-packages\\ipykernel_launcher.py:7: SettingWithCopyWarning: \n",
      "A value is trying to be set on a copy of a slice from a DataFrame\n",
      "\n",
      "See the caveats in the documentation: http://pandas.pydata.org/pandas-docs/stable/indexing.html#indexing-view-versus-copy\n",
      "  import sys\n",
      "C:\\Users\\gylk\\AppData\\Local\\Continuum\\anaconda3\\envs\\gds\\lib\\site-packages\\ipykernel_launcher.py:9: SettingWithCopyWarning: \n",
      "A value is trying to be set on a copy of a slice from a DataFrame\n",
      "\n",
      "See the caveats in the documentation: http://pandas.pydata.org/pandas-docs/stable/indexing.html#indexing-view-versus-copy\n",
      "  if __name__ == '__main__':\n",
      "C:\\Users\\gylk\\AppData\\Local\\Continuum\\anaconda3\\envs\\gds\\lib\\site-packages\\ipykernel_launcher.py:10: SettingWithCopyWarning: \n",
      "A value is trying to be set on a copy of a slice from a DataFrame\n",
      "\n",
      "See the caveats in the documentation: http://pandas.pydata.org/pandas-docs/stable/indexing.html#indexing-view-versus-copy\n",
      "  # Remove the CWD from sys.path while we load stuff.\n"
     ]
    }
   ],
   "source": [
    "all_data['centre_dummy'] = np.nan\n",
    "all_data['centre'] = 'unknown'\n",
    "\n",
    "for i in range(len(all_data)):\n",
    "    if all_data['local_auth'][i] == 'Manchester':\n",
    "        all_data['centre_dummy'][i] = 1\n",
    "        all_data['centre'][i] = 'Yes'\n",
    "    else:\n",
    "        all_data['centre_dummy'][i] = 0\n",
    "        all_data['centre'][i] = 'No'"
   ]
  },
  {
   "cell_type": "code",
   "execution_count": 30,
   "metadata": {},
   "outputs": [
    {
     "name": "stderr",
     "output_type": "stream",
     "text": [
      "C:\\Users\\gylk\\AppData\\Local\\Continuum\\anaconda3\\envs\\gds\\lib\\site-packages\\ipykernel_launcher.py:5: SettingWithCopyWarning: \n",
      "A value is trying to be set on a copy of a slice from a DataFrame\n",
      "\n",
      "See the caveats in the documentation: http://pandas.pydata.org/pandas-docs/stable/indexing.html#indexing-view-versus-copy\n",
      "  \"\"\"\n",
      "C:\\Users\\gylk\\AppData\\Local\\Continuum\\anaconda3\\envs\\gds\\lib\\site-packages\\ipykernel_launcher.py:7: SettingWithCopyWarning: \n",
      "A value is trying to be set on a copy of a slice from a DataFrame\n",
      "\n",
      "See the caveats in the documentation: http://pandas.pydata.org/pandas-docs/stable/indexing.html#indexing-view-versus-copy\n",
      "  import sys\n"
     ]
    }
   ],
   "source": [
    "all_data['depr_dummy'] = np.nan\n",
    "\n",
    "for i in range(len(all_data)):\n",
    "    if all_data['nodepr'][i] >= 0.5:\n",
    "        all_data['depr_dummy'][i] = 1\n",
    "    else:\n",
    "        all_data['depr_dummy'][i] = 0"
   ]
  },
  {
   "cell_type": "code",
   "execution_count": 31,
   "metadata": {},
   "outputs": [],
   "source": [
    "all_data.to_csv('data/manchester_data.csv')"
   ]
  }
 ],
 "metadata": {
  "kernelspec": {
   "display_name": "Python 3",
   "language": "python",
   "name": "python3"
  },
  "language_info": {
   "codemirror_mode": {
    "name": "ipython",
    "version": 3
   },
   "file_extension": ".py",
   "mimetype": "text/x-python",
   "name": "python",
   "nbconvert_exporter": "python",
   "pygments_lexer": "ipython3",
   "version": "3.6.6"
  }
 },
 "nbformat": 4,
 "nbformat_minor": 2
}
