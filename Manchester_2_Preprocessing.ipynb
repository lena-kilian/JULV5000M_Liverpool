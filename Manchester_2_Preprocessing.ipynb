{
 "cells": [
  {
   "cell_type": "code",
   "execution_count": 21,
   "metadata": {},
   "outputs": [],
   "source": [
    "import pandas as pd\n",
    "import numpy as np\n",
    "import matplotlib.pyplot as plt\n",
    "import seaborn as sns\n",
    "from sklearn import preprocessing"
   ]
  },
  {
   "cell_type": "code",
   "execution_count": 62,
   "metadata": {},
   "outputs": [],
   "source": [
    "data_age = pd.read_csv('data/cleaned_age.csv')\n",
    "data_health = pd.read_csv('data/cleaned_health.csv')\n",
    "data_heat = pd.read_csv('data/cleaned_heat.csv')\n",
    "data_depr = pd.read_csv('data/cleaned_depr.csv')\n",
    "data_hhold = pd.read_csv('data/cleaned_hhold.csv')\n",
    "data_ethgrp = pd.read_csv('data/cleaned_ethgrp.csv')\n",
    "data_cars = pd.read_csv('data/cleaned_cars.csv')\n",
    "\n",
    "meta_data = pd.read_csv('data/meta_all.csv')"
   ]
  },
  {
   "cell_type": "code",
   "execution_count": 64,
   "metadata": {},
   "outputs": [],
   "source": [
    "def prop_of_tot(old_data):\n",
    "    \n",
    "    data = old_data.set_index('GEO_CODE').astype(int)\n",
    "    data['sum'] = data.sum(axis = 1, skipna = all)\n",
    "    \n",
    "    new_df = pd.DataFrame(index = data.index, columns = data.columns)\n",
    "    for i in range(len(data)):\n",
    "        for j in range(int(len(data.columns) - 1)):\n",
    "            new_df.iloc[i][j] = (data.iloc[i][j] / data.iloc[i][int(len(data.columns) - 1)])\n",
    "    \n",
    "    new_df = new_df.dropna(axis = 1)\n",
    "\n",
    "    return(new_df)"
   ]
  },
  {
   "cell_type": "code",
   "execution_count": 65,
   "metadata": {},
   "outputs": [],
   "source": [
    "prop_health = prop_of_tot(data_health)\n",
    "prop_heat = prop_of_tot(data_heat)\n",
    "prop_depr = prop_of_tot(data_depr)\n",
    "prop_cars = prop_of_tot(data_cars)\n",
    "prop_ethgrp = prop_of_tot(data_ethgrp)"
   ]
  },
  {
   "cell_type": "code",
   "execution_count": 67,
   "metadata": {},
   "outputs": [],
   "source": [
    "prop_health['badhealth'] = prop_health['F1777'] + prop_health['F1782']\n",
    "prop_depr['depr_2+'] = prop_depr['F999'] + prop_depr['F1000'] + prop_depr['F1001']\n",
    "prop_depr['depr_3+'] = prop_depr['F1000'] + prop_depr['F1001']\n",
    "prop_ethgrp['F166x'] = prop_ethgrp['F1664'] + prop_ethgrp['F1665'] + prop_ethgrp['F1666'] + prop_ethgrp['F1667']"
   ]
  },
  {
   "cell_type": "code",
   "execution_count": 68,
   "metadata": {},
   "outputs": [],
   "source": [
    "data_ethgrp = data_ethgrp.set_index('GEO_CODE')\n",
    "\n",
    "for i in range(len(data_ethgrp)):\n",
    "    for j in range(len(data_ethgrp.columns)):\n",
    "        data_ethgrp.iloc[i][j] = data_ethgrp.iloc[i][j] ** 2\n",
    "\n",
    "data_ethgrp['hhi'] = data_ethgrp.sum(axis = 1, skipna = all)"
   ]
  },
  {
   "cell_type": "code",
   "execution_count": 69,
   "metadata": {},
   "outputs": [],
   "source": [
    "data_ethgrp = data_ethgrp[['hhi']]"
   ]
  },
  {
   "cell_type": "code",
   "execution_count": 71,
   "metadata": {},
   "outputs": [
    {
     "name": "stderr",
     "output_type": "stream",
     "text": [
      "C:\\Users\\gylk\\AppData\\Local\\Continuum\\anaconda3\\envs\\gds\\lib\\site-packages\\sklearn\\utils\\validation.py:595: DataConversionWarning: Data with input dtype int64 was converted to float64 by MinMaxScaler.\n",
      "  warnings.warn(msg, DataConversionWarning)\n"
     ]
    }
   ],
   "source": [
    "# normalise hhi --> turns to array\n",
    "min_max_scaler = preprocessing.MinMaxScaler()\n",
    "x_scaled = min_max_scaler.fit_transform(data_ethgrp.values)"
   ]
  },
  {
   "cell_type": "code",
   "execution_count": 72,
   "metadata": {},
   "outputs": [],
   "source": [
    "hhi_list = []\n",
    "\n",
    "for i in range(len(x_scaled)):\n",
    "    hhi_list.append(float(x_scaled[i]))"
   ]
  },
  {
   "cell_type": "code",
   "execution_count": 73,
   "metadata": {},
   "outputs": [],
   "source": [
    "data_ethgrp['hhi_norm'] = hhi_list"
   ]
  },
  {
   "cell_type": "code",
   "execution_count": 74,
   "metadata": {},
   "outputs": [],
   "source": [
    "data_ethgrp = data_ethgrp[['hhi_norm']].join(prop_ethgrp[['F166x']])"
   ]
  },
  {
   "cell_type": "code",
   "execution_count": 76,
   "metadata": {},
   "outputs": [],
   "source": [
    "data_hhold = data_hhold.set_index('GEO_CODE')\n",
    "data_age = data_age.set_index('GEO_CODE')"
   ]
  },
  {
   "cell_type": "code",
   "execution_count": 77,
   "metadata": {},
   "outputs": [],
   "source": [
    "prop_hhold = pd.DataFrame(index = data_hhold.index, columns = data_hhold.columns)\n",
    "\n",
    "for i in range(len(data_hhold)):\n",
    "    for j in range(1, len(data_hhold.columns)):\n",
    "        prop_hhold.iloc[i][j] = (data_hhold.iloc[i][j] / data_hhold.iloc[i][0])\n",
    "        \n",
    "prop_hhold = prop_hhold.dropna(axis = 1)"
   ]
  },
  {
   "cell_type": "code",
   "execution_count": 86,
   "metadata": {},
   "outputs": [],
   "source": [
    "# join data\n",
    "\n",
    "man_data = prop_health.join(prop_heat).join(prop_depr).join(prop_cars).join(prop_hhold).join(data_age).join(data_ethgrp)"
   ]
  },
  {
   "cell_type": "code",
   "execution_count": 87,
   "metadata": {},
   "outputs": [],
   "source": [
    "tokeep = ['F184', 'F185', 'badhealth', 'F2345', 'F997', 'F1001', 'depr_3+', 'depr_2+', 'F1838', 'F1816', 'F991', 'hhi_norm', 'F166x'] \n",
    "\n",
    "man_data = (man_data[tokeep].rename(columns = {'F184':'age_mean',\n",
    "                                               'F185':'age_median',\n",
    "                                               'F2345':'centheat',\n",
    "                                               'F997':'nodepr',\n",
    "                                               'F1838':'studenthhold',\n",
    "                                               'F1816':'onefam_hhold',\n",
    "                                               'F166x':'ethwhite',\n",
    "                                               'F991':'nocars',\n",
    "                                               'F1001':'depr_4+',\n",
    "                                               'hhi_norm':'eth_hhi'})\\\n",
    "           .astype(np.float))"
   ]
  },
  {
   "cell_type": "code",
   "execution_count": 89,
   "metadata": {},
   "outputs": [
    {
     "data": {
      "text/html": [
       "<div>\n",
       "<style scoped>\n",
       "    .dataframe tbody tr th:only-of-type {\n",
       "        vertical-align: middle;\n",
       "    }\n",
       "\n",
       "    .dataframe tbody tr th {\n",
       "        vertical-align: top;\n",
       "    }\n",
       "\n",
       "    .dataframe thead th {\n",
       "        text-align: right;\n",
       "    }\n",
       "</style>\n",
       "<table border=\"1\" class=\"dataframe\">\n",
       "  <thead>\n",
       "    <tr style=\"text-align: right;\">\n",
       "      <th></th>\n",
       "      <th>age_mean</th>\n",
       "      <th>age_median</th>\n",
       "      <th>badhealth</th>\n",
       "      <th>centheat</th>\n",
       "      <th>nodepr</th>\n",
       "      <th>depr_4+</th>\n",
       "      <th>depr_3+</th>\n",
       "      <th>depr_2+</th>\n",
       "      <th>studenthhold</th>\n",
       "      <th>onefam_hhold</th>\n",
       "      <th>nocars</th>\n",
       "      <th>eth_hhi</th>\n",
       "      <th>ethwhite</th>\n",
       "    </tr>\n",
       "    <tr>\n",
       "      <th>GEO_CODE</th>\n",
       "      <th></th>\n",
       "      <th></th>\n",
       "      <th></th>\n",
       "      <th></th>\n",
       "      <th></th>\n",
       "      <th></th>\n",
       "      <th></th>\n",
       "      <th></th>\n",
       "      <th></th>\n",
       "      <th></th>\n",
       "      <th></th>\n",
       "      <th></th>\n",
       "      <th></th>\n",
       "    </tr>\n",
       "  </thead>\n",
       "  <tbody>\n",
       "    <tr>\n",
       "      <th>E01004766</th>\n",
       "      <td>42.10929</td>\n",
       "      <td>42.0</td>\n",
       "      <td>0.075377</td>\n",
       "      <td>0.937107</td>\n",
       "      <td>0.350943</td>\n",
       "      <td>0.002516</td>\n",
       "      <td>0.051572</td>\n",
       "      <td>0.298113</td>\n",
       "      <td>0.001258</td>\n",
       "      <td>0.510692</td>\n",
       "      <td>0.354717</td>\n",
       "      <td>0.176145</td>\n",
       "      <td>0.863693</td>\n",
       "    </tr>\n",
       "    <tr>\n",
       "      <th>E01004767</th>\n",
       "      <td>40.15316</td>\n",
       "      <td>39.0</td>\n",
       "      <td>0.048868</td>\n",
       "      <td>0.958333</td>\n",
       "      <td>0.446615</td>\n",
       "      <td>0.003906</td>\n",
       "      <td>0.046875</td>\n",
       "      <td>0.221354</td>\n",
       "      <td>0.010417</td>\n",
       "      <td>0.558594</td>\n",
       "      <td>0.244792</td>\n",
       "      <td>0.172369</td>\n",
       "      <td>0.796782</td>\n",
       "    </tr>\n",
       "    <tr>\n",
       "      <th>E01004768</th>\n",
       "      <td>39.94941</td>\n",
       "      <td>42.0</td>\n",
       "      <td>0.016864</td>\n",
       "      <td>0.991736</td>\n",
       "      <td>0.641322</td>\n",
       "      <td>0.000000</td>\n",
       "      <td>0.008264</td>\n",
       "      <td>0.084298</td>\n",
       "      <td>0.000000</td>\n",
       "      <td>0.796694</td>\n",
       "      <td>0.044628</td>\n",
       "      <td>0.221215</td>\n",
       "      <td>0.937539</td>\n",
       "    </tr>\n",
       "    <tr>\n",
       "      <th>E01004769</th>\n",
       "      <td>41.63690</td>\n",
       "      <td>42.5</td>\n",
       "      <td>0.035202</td>\n",
       "      <td>0.982482</td>\n",
       "      <td>0.554745</td>\n",
       "      <td>0.001460</td>\n",
       "      <td>0.016058</td>\n",
       "      <td>0.138686</td>\n",
       "      <td>0.000000</td>\n",
       "      <td>0.645255</td>\n",
       "      <td>0.132847</td>\n",
       "      <td>0.197436</td>\n",
       "      <td>0.930248</td>\n",
       "    </tr>\n",
       "    <tr>\n",
       "      <th>E01004770</th>\n",
       "      <td>44.31058</td>\n",
       "      <td>45.0</td>\n",
       "      <td>0.055290</td>\n",
       "      <td>0.978896</td>\n",
       "      <td>0.452922</td>\n",
       "      <td>0.001623</td>\n",
       "      <td>0.022727</td>\n",
       "      <td>0.194805</td>\n",
       "      <td>0.000000</td>\n",
       "      <td>0.733766</td>\n",
       "      <td>0.144481</td>\n",
       "      <td>0.136553</td>\n",
       "      <td>0.822526</td>\n",
       "    </tr>\n",
       "  </tbody>\n",
       "</table>\n",
       "</div>"
      ],
      "text/plain": [
       "           age_mean  age_median  badhealth  centheat    nodepr   depr_4+  \\\n",
       "GEO_CODE                                                                   \n",
       "E01004766  42.10929        42.0   0.075377  0.937107  0.350943  0.002516   \n",
       "E01004767  40.15316        39.0   0.048868  0.958333  0.446615  0.003906   \n",
       "E01004768  39.94941        42.0   0.016864  0.991736  0.641322  0.000000   \n",
       "E01004769  41.63690        42.5   0.035202  0.982482  0.554745  0.001460   \n",
       "E01004770  44.31058        45.0   0.055290  0.978896  0.452922  0.001623   \n",
       "\n",
       "            depr_3+   depr_2+  studenthhold  onefam_hhold    nocars   eth_hhi  \\\n",
       "GEO_CODE                                                                        \n",
       "E01004766  0.051572  0.298113      0.001258      0.510692  0.354717  0.176145   \n",
       "E01004767  0.046875  0.221354      0.010417      0.558594  0.244792  0.172369   \n",
       "E01004768  0.008264  0.084298      0.000000      0.796694  0.044628  0.221215   \n",
       "E01004769  0.016058  0.138686      0.000000      0.645255  0.132847  0.197436   \n",
       "E01004770  0.022727  0.194805      0.000000      0.733766  0.144481  0.136553   \n",
       "\n",
       "           ethwhite  \n",
       "GEO_CODE             \n",
       "E01004766  0.863693  \n",
       "E01004767  0.796782  \n",
       "E01004768  0.937539  \n",
       "E01004769  0.930248  \n",
       "E01004770  0.822526  "
      ]
     },
     "execution_count": 89,
     "metadata": {},
     "output_type": "execute_result"
    }
   ],
   "source": [
    "man_data.head()"
   ]
  },
  {
   "cell_type": "code",
   "execution_count": 88,
   "metadata": {},
   "outputs": [],
   "source": [
    "man_data.to_csv('data/manchester_data.csv')"
   ]
  }
 ],
 "metadata": {
  "kernelspec": {
   "display_name": "Python 3",
   "language": "python",
   "name": "python3"
  },
  "language_info": {
   "codemirror_mode": {
    "name": "ipython",
    "version": 3
   },
   "file_extension": ".py",
   "mimetype": "text/x-python",
   "name": "python",
   "nbconvert_exporter": "python",
   "pygments_lexer": "ipython3",
   "version": "3.6.7"
  }
 },
 "nbformat": 4,
 "nbformat_minor": 2
}
